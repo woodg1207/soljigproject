{
 "cells": [
  {
   "cell_type": "code",
   "execution_count": 1,
   "metadata": {},
   "outputs": [],
   "source": [
    "import pandas as pd"
   ]
  },
  {
   "cell_type": "code",
   "execution_count": 2,
   "metadata": {},
   "outputs": [],
   "source": [
    "tmap = pd.read_csv('../data/Tmap_2005.csv')"
   ]
  },
  {
   "cell_type": "code",
   "execution_count": 3,
   "metadata": {
    "tags": []
   },
   "outputs": [
    {
     "output_type": "execute_result",
     "data": {
      "text/plain": "(23250, 8)"
     },
     "metadata": {},
     "execution_count": 3
    }
   ],
   "source": [
    "c1 = tmap['지역(시도)'] == '서울'\n",
    "select_list = ['공공기관', '의료시설', '연구기관', '업종별기업', '행정기관', '종교', '가정의례']\n",
    "# c2 = tmap['지역(시군구)'] == '강남구'\n",
    "# c2 = tmap['일자']==20200510\n",
    "seoul = tmap.loc[c1,:]\n",
    "seoul.shape"
   ]
  },
  {
   "cell_type": "code",
   "execution_count": 4,
   "metadata": {},
   "outputs": [
    {
     "output_type": "execute_result",
     "data": {
      "text/plain": "array(['아파트브랜드', '지하철역', '아파트단지', '백화점', '아파트건설사', '공원', '할인점', '주상복합',\n       '농수축산물시장', '대학교', '쇼핑센터', '테마파크', '주요빌딩', '일반상가', '산업시설기타',\n       '고속도로 IC', '오피스텔', '스케이트장', '기차역', '전망대', '주차장', '박물관/기념관', '호텔',\n       '전자제품양판점', '도서관', '극장', '커피전문점', '고등학교', '종합시장', '서적브랜드', '전문상가',\n       '한식', '미술관', '드라이브코스', '문화유적지', '고궁', '버스터미널', '초등학교', '전시장',\n       '수족관', '부페', '공항', '농수축산물점', '교차로', '학교내시설물', '유원지', '재래시장', '방송사',\n       '운동장/체육관', '슈퍼마켓', '공연장', '섬', '분식', '기념비', '중학교', '아파트형공장',\n       '종합스포츠센타', '골프장', '대한상공회의소', '은행', '주요건물기타', '주유소', '자동차영업소',\n       '중고차매매', '대교/철교', '사회복지시설', '화랑/전시관', '삼성', '센터', '능묘', '회관',\n       '도시고속화도로IC', '축제', '운전면허시험장', 'LG유플러스', '호수', '한샘가구', '관광안내소',\n       '장난감', '동식물원', '패밀리레스토랑', '놀이시설'], dtype=object)"
     },
     "metadata": {},
     "execution_count": 4
    }
   ],
   "source": [
    "l = []\n",
    "for i in select_list:\n",
    "    select_condition2 = tmap['검색지유형2']==i\n",
    "    seoul_index = seoul.loc[select_condition2,:].index\n",
    "    # l.append(seoul_index)\n",
    "    l.extend(seoul_index)\n",
    "new_seoul = seoul.drop(l)\n",
    "new_seoul['검색지유형3'].unique()\n",
    "# seoul['검색지유형2'].unique()\n",
    "# seoul['검색지유형3'].unique()"
   ]
  },
  {
   "cell_type": "code",
   "execution_count": 11,
   "metadata": {
    "tags": []
   },
   "outputs": [
    {
     "output_type": "execute_result",
     "data": {
      "text/plain": "                 검색지명  point   gu\n0       고덕래미안힐스테이트아파트    930  강동구\n1                 천호역    904  강동구\n2           고덕그라시움아파트    868  강동구\n3        강동롯데캐슬퍼스트아파트    795  강동구\n4            현대백화점천호점    770  강동구\n5           고덕아르테온아파트    727  강동구\n6       고덕롯데캐슬베네루체아파트    697  강동구\n7           암사선사현대아파트    650  강동구\n8           삼익그린2차아파트    632  강동구\n9          프라이어팰리스아파트    592  강동구\n10       고덕리엔파크3단지아파트    533  강동구\n11          고덕아이파크아파트    433  강동구\n12                명일역    409  강동구\n13               상일동역    386  강동구\n14       고덕센트럴아이파크아파트    353  강동구\n15            광나루한강공원    338  강동구\n16             이마트명일점    316  강동구\n17              굽은다리역    264  강동구\n18               상일IC    199  강동구\n19           래미안강동팰리스    196  강동구\n20                길동역    191  강동구\n21                암사역    139  강동구\n22          둔촌푸르지오아파트    118  강동구\n23         2001아울렛천호점    116  강동구\n24            삼익파크아파트     91  강동구\n25               둔촌동역     73  강동구\n26  삼성엔지니어링글로벌엔지니어링센터     61  강동구\n27         고덕주공9단지아파트     32  강동구\n28       강일리버파크3단지아파트     21  강동구\n0                 서울숲    930  성동구\n1              이마트성수점    867  성동구\n2          왕십리센트라스아파트    853  성동구\n3             이마트왕십리점    715  성동구\n4      래미안옥수리버젠1단지아파트    684  성동구\n5   E편한세상옥수파크힐스1단지아파트    616  성동구\n6                트리마제    604  성동구\n7         행당한신휴플러스아파트    581  성동구\n8             금호벽산아파트    580  성동구\n9          한양대학교서울캠퍼스    573  성동구\n10            마장축산물시장    558  성동구",
      "text/html": "<div>\n<style scoped>\n    .dataframe tbody tr th:only-of-type {\n        vertical-align: middle;\n    }\n\n    .dataframe tbody tr th {\n        vertical-align: top;\n    }\n\n    .dataframe thead th {\n        text-align: right;\n    }\n</style>\n<table border=\"1\" class=\"dataframe\">\n  <thead>\n    <tr style=\"text-align: right;\">\n      <th></th>\n      <th>검색지명</th>\n      <th>point</th>\n      <th>gu</th>\n    </tr>\n  </thead>\n  <tbody>\n    <tr>\n      <th>0</th>\n      <td>고덕래미안힐스테이트아파트</td>\n      <td>930</td>\n      <td>강동구</td>\n    </tr>\n    <tr>\n      <th>1</th>\n      <td>천호역</td>\n      <td>904</td>\n      <td>강동구</td>\n    </tr>\n    <tr>\n      <th>2</th>\n      <td>고덕그라시움아파트</td>\n      <td>868</td>\n      <td>강동구</td>\n    </tr>\n    <tr>\n      <th>3</th>\n      <td>강동롯데캐슬퍼스트아파트</td>\n      <td>795</td>\n      <td>강동구</td>\n    </tr>\n    <tr>\n      <th>4</th>\n      <td>현대백화점천호점</td>\n      <td>770</td>\n      <td>강동구</td>\n    </tr>\n    <tr>\n      <th>5</th>\n      <td>고덕아르테온아파트</td>\n      <td>727</td>\n      <td>강동구</td>\n    </tr>\n    <tr>\n      <th>6</th>\n      <td>고덕롯데캐슬베네루체아파트</td>\n      <td>697</td>\n      <td>강동구</td>\n    </tr>\n    <tr>\n      <th>7</th>\n      <td>암사선사현대아파트</td>\n      <td>650</td>\n      <td>강동구</td>\n    </tr>\n    <tr>\n      <th>8</th>\n      <td>삼익그린2차아파트</td>\n      <td>632</td>\n      <td>강동구</td>\n    </tr>\n    <tr>\n      <th>9</th>\n      <td>프라이어팰리스아파트</td>\n      <td>592</td>\n      <td>강동구</td>\n    </tr>\n    <tr>\n      <th>10</th>\n      <td>고덕리엔파크3단지아파트</td>\n      <td>533</td>\n      <td>강동구</td>\n    </tr>\n    <tr>\n      <th>11</th>\n      <td>고덕아이파크아파트</td>\n      <td>433</td>\n      <td>강동구</td>\n    </tr>\n    <tr>\n      <th>12</th>\n      <td>명일역</td>\n      <td>409</td>\n      <td>강동구</td>\n    </tr>\n    <tr>\n      <th>13</th>\n      <td>상일동역</td>\n      <td>386</td>\n      <td>강동구</td>\n    </tr>\n    <tr>\n      <th>14</th>\n      <td>고덕센트럴아이파크아파트</td>\n      <td>353</td>\n      <td>강동구</td>\n    </tr>\n    <tr>\n      <th>15</th>\n      <td>광나루한강공원</td>\n      <td>338</td>\n      <td>강동구</td>\n    </tr>\n    <tr>\n      <th>16</th>\n      <td>이마트명일점</td>\n      <td>316</td>\n      <td>강동구</td>\n    </tr>\n    <tr>\n      <th>17</th>\n      <td>굽은다리역</td>\n      <td>264</td>\n      <td>강동구</td>\n    </tr>\n    <tr>\n      <th>18</th>\n      <td>상일IC</td>\n      <td>199</td>\n      <td>강동구</td>\n    </tr>\n    <tr>\n      <th>19</th>\n      <td>래미안강동팰리스</td>\n      <td>196</td>\n      <td>강동구</td>\n    </tr>\n    <tr>\n      <th>20</th>\n      <td>길동역</td>\n      <td>191</td>\n      <td>강동구</td>\n    </tr>\n    <tr>\n      <th>21</th>\n      <td>암사역</td>\n      <td>139</td>\n      <td>강동구</td>\n    </tr>\n    <tr>\n      <th>22</th>\n      <td>둔촌푸르지오아파트</td>\n      <td>118</td>\n      <td>강동구</td>\n    </tr>\n    <tr>\n      <th>23</th>\n      <td>2001아울렛천호점</td>\n      <td>116</td>\n      <td>강동구</td>\n    </tr>\n    <tr>\n      <th>24</th>\n      <td>삼익파크아파트</td>\n      <td>91</td>\n      <td>강동구</td>\n    </tr>\n    <tr>\n      <th>25</th>\n      <td>둔촌동역</td>\n      <td>73</td>\n      <td>강동구</td>\n    </tr>\n    <tr>\n      <th>26</th>\n      <td>삼성엔지니어링글로벌엔지니어링센터</td>\n      <td>61</td>\n      <td>강동구</td>\n    </tr>\n    <tr>\n      <th>27</th>\n      <td>고덕주공9단지아파트</td>\n      <td>32</td>\n      <td>강동구</td>\n    </tr>\n    <tr>\n      <th>28</th>\n      <td>강일리버파크3단지아파트</td>\n      <td>21</td>\n      <td>강동구</td>\n    </tr>\n    <tr>\n      <th>0</th>\n      <td>서울숲</td>\n      <td>930</td>\n      <td>성동구</td>\n    </tr>\n    <tr>\n      <th>1</th>\n      <td>이마트성수점</td>\n      <td>867</td>\n      <td>성동구</td>\n    </tr>\n    <tr>\n      <th>2</th>\n      <td>왕십리센트라스아파트</td>\n      <td>853</td>\n      <td>성동구</td>\n    </tr>\n    <tr>\n      <th>3</th>\n      <td>이마트왕십리점</td>\n      <td>715</td>\n      <td>성동구</td>\n    </tr>\n    <tr>\n      <th>4</th>\n      <td>래미안옥수리버젠1단지아파트</td>\n      <td>684</td>\n      <td>성동구</td>\n    </tr>\n    <tr>\n      <th>5</th>\n      <td>E편한세상옥수파크힐스1단지아파트</td>\n      <td>616</td>\n      <td>성동구</td>\n    </tr>\n    <tr>\n      <th>6</th>\n      <td>트리마제</td>\n      <td>604</td>\n      <td>성동구</td>\n    </tr>\n    <tr>\n      <th>7</th>\n      <td>행당한신휴플러스아파트</td>\n      <td>581</td>\n      <td>성동구</td>\n    </tr>\n    <tr>\n      <th>8</th>\n      <td>금호벽산아파트</td>\n      <td>580</td>\n      <td>성동구</td>\n    </tr>\n    <tr>\n      <th>9</th>\n      <td>한양대학교서울캠퍼스</td>\n      <td>573</td>\n      <td>성동구</td>\n    </tr>\n    <tr>\n      <th>10</th>\n      <td>마장축산물시장</td>\n      <td>558</td>\n      <td>성동구</td>\n    </tr>\n  </tbody>\n</table>\n</div>"
     },
     "metadata": {},
     "execution_count": 11
    }
   ],
   "source": [
    "# 서울시 구\n",
    "gu_list = new_seoul['지역(시군구)'].unique()\n",
    "# 점수주기\n",
    "new_seoul['point'] = 31-new_seoul['검색지랭킹(시군구내)']\n",
    "# 지역별 점수 합산\n",
    "result = pd.DataFrame()\n",
    "for i in gu_list:\n",
    "    con_gu = new_seoul['지역(시군구)'] == i\n",
    "    # print(i)\n",
    "    gu_seoul = new_seoul.loc[con_gu, :]\n",
    "    s = gu_seoul.groupby(by=['검색지명']).sum()\n",
    "    s = s.loc[s['point']>20,:]\n",
    "    ss = s.sort_values(by='point', ascending=False).reset_index()\n",
    "    ss['gu'] = i\n",
    "    result=result.append(ss[['검색지명', 'point', 'gu']])\n",
    "result.head(40)\n"
   ]
  },
  {
   "cell_type": "raw",
   "metadata": {},
   "source": [
    "cnt_seoul = seoul['검색지명'].value_counts()\n",
    "cnt_seoul"
   ]
  },
  {
   "cell_type": "markdown",
   "metadata": {},
   "source": [
    "# 카카오 api\n",
    "- 카카오 api 키워드로 장소검색을 사용하면 각각의 네비게이션 목적지들의 좌표값이 나온다.\n",
    "- 지하철 역일경우에는 인구 분포가 안나오는데 그외에는 나온다."
   ]
  },
  {
   "cell_type": "code",
   "execution_count": 6,
   "metadata": {},
   "outputs": [],
   "source": [
    "name = result.iloc[0,0]"
   ]
  },
  {
   "cell_type": "code",
   "execution_count": 12,
   "metadata": {
    "tags": []
   },
   "outputs": [],
   "source": [
    "# cnt_df.plot(kind='bar')\n",
    "import requests\n",
    "from decouple import config\n",
    "ka_key = config('KAKAO_RESTAPI')\n",
    "kakao_url = 'https://dapi.kakao.com/v2/local/search/keyword.json?query='+name\n",
    "h = {\n",
    "    'Authorization': 'KakaoAK '+ka_key\n",
    "}\n",
    "res = requests.get(kakao_url, headers=h)\n",
    "location_data = res.json()['documents']\n",
    "# 구, 동 따로 구별해서 저장해주기\n",
    "address = location_data[0]['address_name']\n",
    "place_url = location_data[0]['place_url']\n",
    "place_x = location_data[0]['x']\n",
    "place_y = location_data[0]['y']\n",
    "# print(place_x, place_y, address)\n",
    "# location_data"
   ]
  },
  {
   "cell_type": "code",
   "execution_count": 8,
   "metadata": {
    "tags": []
   },
   "outputs": [
    {
     "output_type": "stream",
     "name": "stdout",
     "text": "강동구 고덕동\n"
    }
   ],
   "source": [
    "add_sp=address.split()\n",
    "place_dong, place_gu = add_sp[2], add_sp[1]\n",
    "print(place_gu, place_dong)"
   ]
  },
  {
   "cell_type": "code",
   "execution_count": 13,
   "metadata": {},
   "outputs": [],
   "source": [
    "kakao_category_url = f'https://dapi.kakao.com/v2/local/search/category.json?category_group_code=FD6&x={place_x}&y={place_y}&radius=300&page=1&sort=distance'\n",
    "cate_res = requests.get(kakao_category_url, headers=h)\n",
    "# cate_res.json()"
   ]
  },
  {
   "cell_type": "code",
   "execution_count": 10,
   "metadata": {},
   "outputs": [
    {
     "output_type": "execute_result",
     "data": {
      "text/plain": "15"
     },
     "metadata": {},
     "execution_count": 10
    }
   ],
   "source": [
    "len(cate_res.json()['documents'])"
   ]
  },
  {
   "cell_type": "markdown",
   "metadata": {},
   "source": [
    "# 만들기"
   ]
  },
  {
   "cell_type": "code",
   "execution_count": 20,
   "metadata": {},
   "outputs": [
    {
     "output_type": "execute_result",
     "data": {
      "text/plain": "array(['강동구', '성동구', '송파구', '양천구', '영등포구', '용산구', '종로구', '중랑구', '강남구',\n       '강서구', '관악구', '광진구', '동작구', '마포구', '서초구', '은평구', '강북구', '구로구',\n       '노원구', '도봉구', '동대문구', '성북구', '중구', '금천구', '서대문구'], dtype=object)"
     },
     "metadata": {},
     "execution_count": 20
    }
   ],
   "source": [
    "# 서울에 있는 내비게이션 목적지\n",
    "result\n",
    "gu_list = result['gu'].unique()"
   ]
  },
  {
   "cell_type": "code",
   "execution_count": 36,
   "metadata": {
    "tags": []
   },
   "outputs": [],
   "source": [
    "navi_list = []\n",
    "for idx, gu_name in enumerate(gu_list):\n",
    "    if idx: break  ## test용으로\n",
    "    con = result['gu'] == gu_name\n",
    "    location = result.loc[con,:]\n",
    "    for i in location['검색지명']:\n",
    "        kakao_url = 'https://dapi.kakao.com/v2/local/search/keyword.json?query=' + i\n",
    "        res = requests.get(kakao_url, headers=h)\n",
    "        ### 내비게이션 목적지에서 많이 나오는 애들 항목임.\n",
    "        location_data = res.json()['documents']\n",
    "        place_x = location_data[0]['x']\n",
    "        place_y = location_data[0]['y']\n",
    "        navi_list.append(\n",
    "            {\n",
    "                'name':i,\n",
    "                'x':place_x,\n",
    "                'y':place_y,\n",
    "            }\n",
    "        )"
   ]
  },
  {
   "cell_type": "code",
   "execution_count": 37,
   "metadata": {
    "tags": []
   },
   "outputs": [
    {
     "output_type": "stream",
     "name": "stdout",
     "text": "[{'name': '고덕래미안힐스테이트아파트', 'x': '127.149057394089', 'y': '37.5595258727289'},\n {'name': '천호역', 'x': '127.12392845044', 'y': '37.5385112120297'},\n {'name': '고덕그라시움아파트', 'x': '127.16364074756201', 'y': '37.55754058724754'},\n {'name': '강동롯데캐슬퍼스트아파트', 'x': '127.1430397571237', 'y': '37.55662489972904'},\n {'name': '현대백화점천호점', 'x': '127.1244432563588', 'y': '37.538841968226784'},\n {'name': '고덕아르테온아파트', 'x': '127.16845742861217', 'y': '37.55497948814207'},\n {'name': '고덕롯데캐슬베네루체아파트', 'x': '127.1678007705208', 'y': '37.549312250137085'},\n {'name': '암사선사현대아파트', 'x': '127.1266717599396', 'y': '37.55224672809914'},\n {'name': '삼익그린2차아파트', 'x': '127.14854472216015', 'y': '37.55269966641881'},\n {'name': '프라이어팰리스아파트', 'x': '127.13949839212972', 'y': '37.55352610318784'},\n {'name': '고덕리엔파크3단지아파트', 'x': '127.17552532997468', 'y': '37.55268516575942'},\n {'name': '고덕아이파크아파트', 'x': '127.15524028249118', 'y': '37.55893045558401'},\n {'name': '명일역', 'x': '127.14404374474', 'y': '37.5513978958277'},\n {'name': '상일동역', 'x': '127.165905758209', 'y': '37.5566778757215'},\n {'name': '고덕센트럴아이파크아파트', 'x': '127.16682667773149', 'y': '37.55196256271714'},\n {'name': '광나루한강공원', 'x': '127.119321370969', 'y': '37.5472160039314'},\n {'name': '이마트명일점', 'x': '127.155987297642', 'y': '37.5546046874526'},\n {'name': '굽은다리역', 'x': '127.142882741733', 'y': '37.5455175915913'},\n {'name': '상일IC', 'x': '127.1794680357', 'y': '37.5488662186772'},\n {'name': '래미안강동팰리스', 'x': '127.13203463437566', 'y': '37.53738879127191'},\n {'name': '길동역', 'x': '127.140021295948', 'y': '37.5378264874159'},\n {'name': '암사역', 'x': '127.1275418321658', 'y': '37.550141060814475'},\n {'name': '둔촌푸르지오아파트', 'x': '127.14651776352255', 'y': '37.534146130429356'},\n {'name': '2001아울렛천호점', 'x': '127.12603727646', 'y': '37.5410534026424'},\n {'name': '삼익파크아파트', 'x': '127.30608118471821', 'y': '37.66535932491649'},\n {'name': '둔촌동역', 'x': '127.13621464981398', 'y': '37.52765684247226'},\n {'name': '삼성엔지니어링글로벌엔지니어링센터',\n  'x': '127.175588922499',\n  'y': '37.5489189026745'},\n {'name': '고덕주공9단지아파트', 'x': '127.15165960969188', 'y': '37.547906904332784'},\n {'name': '강일리버파크3단지아파트', 'x': '127.17456076561342', 'y': '37.56659797268128'}]\n"
    }
   ],
   "source": [
    "category = ['']"
   ]
  }
 ],
 "metadata": {
  "kernelspec": {
   "display_name": "Python 3.8.4 64-bit",
   "language": "python",
   "name": "python_defaultSpec_1596010335386"
  },
  "language_info": {
   "codemirror_mode": {
    "name": "ipython",
    "version": 3
   },
   "file_extension": ".py",
   "mimetype": "text/x-python",
   "name": "python",
   "nbconvert_exporter": "python",
   "pygments_lexer": "ipython3",
   "version": "3.8.4-final"
  }
 },
 "nbformat": 4,
 "nbformat_minor": 4
}
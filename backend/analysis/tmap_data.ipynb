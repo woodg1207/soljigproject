{
 "cells": [
  {
   "cell_type": "code",
   "execution_count": 2,
   "metadata": {},
   "outputs": [],
   "source": [
    "import pandas as pd"
   ]
  },
  {
   "cell_type": "code",
   "execution_count": 3,
   "metadata": {},
   "outputs": [],
   "source": [
    "tmap = pd.read_csv('../data/Tmap_2005.csv')"
   ]
  },
  {
   "cell_type": "code",
   "execution_count": 4,
   "metadata": {
    "tags": []
   },
   "outputs": [
    {
     "output_type": "execute_result",
     "data": {
      "text/plain": "(23250, 8)"
     },
     "metadata": {},
     "execution_count": 4
    }
   ],
   "source": [
    "c1 = tmap['지역(시도)'] == '서울'\n",
    "select_list = ['공공기관', '의료시설', '연구기관', '업종별기업', '행정기관', '종교', '가정의례']\n",
    "# c2 = tmap['지역(시군구)'] == '강남구'\n",
    "# c2 = tmap['일자']==20200510\n",
    "seoul = tmap.loc[c1,:]\n",
    "seoul.shape"
   ]
  },
  {
   "cell_type": "code",
   "execution_count": 5,
   "metadata": {},
   "outputs": [
    {
     "output_type": "execute_result",
     "data": {
      "text/plain": "array(['아파트브랜드', '지하철역', '아파트단지', '백화점', '아파트건설사', '공원', '할인점', '주상복합',\n       '농수축산물시장', '대학교', '쇼핑센터', '테마파크', '주요빌딩', '일반상가', '산업시설기타',\n       '고속도로 IC', '오피스텔', '스케이트장', '기차역', '전망대', '주차장', '박물관/기념관', '호텔',\n       '전자제품양판점', '도서관', '극장', '커피전문점', '고등학교', '종합시장', '서적브랜드', '전문상가',\n       '한식', '미술관', '드라이브코스', '문화유적지', '고궁', '버스터미널', '초등학교', '전시장',\n       '수족관', '부페', '공항', '농수축산물점', '교차로', '학교내시설물', '유원지', '재래시장', '방송사',\n       '운동장/체육관', '슈퍼마켓', '공연장', '섬', '분식', '기념비', '중학교', '아파트형공장',\n       '종합스포츠센타', '골프장', '대한상공회의소', '은행', '주요건물기타', '주유소', '자동차영업소',\n       '중고차매매', '대교/철교', '사회복지시설', '화랑/전시관', '삼성', '센터', '능묘', '회관',\n       '도시고속화도로IC', '축제', '운전면허시험장', 'LG유플러스', '호수', '한샘가구', '관광안내소',\n       '장난감', '동식물원', '패밀리레스토랑', '놀이시설'], dtype=object)"
     },
     "metadata": {},
     "execution_count": 5
    }
   ],
   "source": [
    "l = []\n",
    "for i in select_list:\n",
    "    select_condition2 = tmap['검색지유형2']==i\n",
    "    seoul_index = seoul.loc[select_condition2,:].index\n",
    "    # l.append(seoul_index)\n",
    "    l.extend(seoul_index)\n",
    "new_seoul = seoul.drop(l)\n",
    "new_seoul['검색지유형3'].unique()\n",
    "# seoul['검색지유형2'].unique()\n",
    "# seoul['검색지유형3'].unique()"
   ]
  },
  {
   "cell_type": "code",
   "execution_count": 34,
   "metadata": {
    "tags": []
   },
   "outputs": [
    {
     "output_type": "execute_result",
     "data": {
      "text/plain": "                 검색지명  point   gu\n0       고덕래미안힐스테이트아파트    930  강동구\n1                 천호역    904  강동구\n2           고덕그라시움아파트    868  강동구\n3        강동롯데캐슬퍼스트아파트    795  강동구\n4            현대백화점천호점    770  강동구\n5           고덕아르테온아파트    727  강동구\n6       고덕롯데캐슬베네루체아파트    697  강동구\n7           암사선사현대아파트    650  강동구\n8           삼익그린2차아파트    632  강동구\n9          프라이어팰리스아파트    592  강동구\n10       고덕리엔파크3단지아파트    533  강동구\n11          고덕아이파크아파트    433  강동구\n12                명일역    409  강동구\n13               상일동역    386  강동구\n14       고덕센트럴아이파크아파트    353  강동구\n15            광나루한강공원    338  강동구\n16             이마트명일점    316  강동구\n17              굽은다리역    264  강동구\n18               상일IC    199  강동구\n19           래미안강동팰리스    196  강동구\n20                길동역    191  강동구\n21                암사역    139  강동구\n22          둔촌푸르지오아파트    118  강동구\n23         2001아울렛천호점    116  강동구\n24            삼익파크아파트     91  강동구\n25               둔촌동역     73  강동구\n26  삼성엔지니어링글로벌엔지니어링센터     61  강동구\n27         고덕주공9단지아파트     32  강동구\n28       강일리버파크3단지아파트     21  강동구\n0                 서울숲    930  성동구",
      "text/html": "<div>\n<style scoped>\n    .dataframe tbody tr th:only-of-type {\n        vertical-align: middle;\n    }\n\n    .dataframe tbody tr th {\n        vertical-align: top;\n    }\n\n    .dataframe thead th {\n        text-align: right;\n    }\n</style>\n<table border=\"1\" class=\"dataframe\">\n  <thead>\n    <tr style=\"text-align: right;\">\n      <th></th>\n      <th>검색지명</th>\n      <th>point</th>\n      <th>gu</th>\n    </tr>\n  </thead>\n  <tbody>\n    <tr>\n      <th>0</th>\n      <td>고덕래미안힐스테이트아파트</td>\n      <td>930</td>\n      <td>강동구</td>\n    </tr>\n    <tr>\n      <th>1</th>\n      <td>천호역</td>\n      <td>904</td>\n      <td>강동구</td>\n    </tr>\n    <tr>\n      <th>2</th>\n      <td>고덕그라시움아파트</td>\n      <td>868</td>\n      <td>강동구</td>\n    </tr>\n    <tr>\n      <th>3</th>\n      <td>강동롯데캐슬퍼스트아파트</td>\n      <td>795</td>\n      <td>강동구</td>\n    </tr>\n    <tr>\n      <th>4</th>\n      <td>현대백화점천호점</td>\n      <td>770</td>\n      <td>강동구</td>\n    </tr>\n    <tr>\n      <th>5</th>\n      <td>고덕아르테온아파트</td>\n      <td>727</td>\n      <td>강동구</td>\n    </tr>\n    <tr>\n      <th>6</th>\n      <td>고덕롯데캐슬베네루체아파트</td>\n      <td>697</td>\n      <td>강동구</td>\n    </tr>\n    <tr>\n      <th>7</th>\n      <td>암사선사현대아파트</td>\n      <td>650</td>\n      <td>강동구</td>\n    </tr>\n    <tr>\n      <th>8</th>\n      <td>삼익그린2차아파트</td>\n      <td>632</td>\n      <td>강동구</td>\n    </tr>\n    <tr>\n      <th>9</th>\n      <td>프라이어팰리스아파트</td>\n      <td>592</td>\n      <td>강동구</td>\n    </tr>\n    <tr>\n      <th>10</th>\n      <td>고덕리엔파크3단지아파트</td>\n      <td>533</td>\n      <td>강동구</td>\n    </tr>\n    <tr>\n      <th>11</th>\n      <td>고덕아이파크아파트</td>\n      <td>433</td>\n      <td>강동구</td>\n    </tr>\n    <tr>\n      <th>12</th>\n      <td>명일역</td>\n      <td>409</td>\n      <td>강동구</td>\n    </tr>\n    <tr>\n      <th>13</th>\n      <td>상일동역</td>\n      <td>386</td>\n      <td>강동구</td>\n    </tr>\n    <tr>\n      <th>14</th>\n      <td>고덕센트럴아이파크아파트</td>\n      <td>353</td>\n      <td>강동구</td>\n    </tr>\n    <tr>\n      <th>15</th>\n      <td>광나루한강공원</td>\n      <td>338</td>\n      <td>강동구</td>\n    </tr>\n    <tr>\n      <th>16</th>\n      <td>이마트명일점</td>\n      <td>316</td>\n      <td>강동구</td>\n    </tr>\n    <tr>\n      <th>17</th>\n      <td>굽은다리역</td>\n      <td>264</td>\n      <td>강동구</td>\n    </tr>\n    <tr>\n      <th>18</th>\n      <td>상일IC</td>\n      <td>199</td>\n      <td>강동구</td>\n    </tr>\n    <tr>\n      <th>19</th>\n      <td>래미안강동팰리스</td>\n      <td>196</td>\n      <td>강동구</td>\n    </tr>\n    <tr>\n      <th>20</th>\n      <td>길동역</td>\n      <td>191</td>\n      <td>강동구</td>\n    </tr>\n    <tr>\n      <th>21</th>\n      <td>암사역</td>\n      <td>139</td>\n      <td>강동구</td>\n    </tr>\n    <tr>\n      <th>22</th>\n      <td>둔촌푸르지오아파트</td>\n      <td>118</td>\n      <td>강동구</td>\n    </tr>\n    <tr>\n      <th>23</th>\n      <td>2001아울렛천호점</td>\n      <td>116</td>\n      <td>강동구</td>\n    </tr>\n    <tr>\n      <th>24</th>\n      <td>삼익파크아파트</td>\n      <td>91</td>\n      <td>강동구</td>\n    </tr>\n    <tr>\n      <th>25</th>\n      <td>둔촌동역</td>\n      <td>73</td>\n      <td>강동구</td>\n    </tr>\n    <tr>\n      <th>26</th>\n      <td>삼성엔지니어링글로벌엔지니어링센터</td>\n      <td>61</td>\n      <td>강동구</td>\n    </tr>\n    <tr>\n      <th>27</th>\n      <td>고덕주공9단지아파트</td>\n      <td>32</td>\n      <td>강동구</td>\n    </tr>\n    <tr>\n      <th>28</th>\n      <td>강일리버파크3단지아파트</td>\n      <td>21</td>\n      <td>강동구</td>\n    </tr>\n    <tr>\n      <th>0</th>\n      <td>서울숲</td>\n      <td>930</td>\n      <td>성동구</td>\n    </tr>\n  </tbody>\n</table>\n</div>"
     },
     "metadata": {},
     "execution_count": 34
    }
   ],
   "source": [
    "# 서울시 구\n",
    "gu_list = new_seoul['지역(시군구)'].unique()\n",
    "# 점수주기\n",
    "new_seoul['point'] = 31-new_seoul['검색지랭킹(시군구내)']\n",
    "# 지역별 점수 합산\n",
    "result = pd.DataFrame()\n",
    "for i in gu_list:\n",
    "    con_gu = new_seoul['지역(시군구)'] == i\n",
    "    # print(i)\n",
    "    gu_seoul = new_seoul.loc[con_gu, :]\n",
    "    s = gu_seoul.groupby(by=['검색지명']).sum()\n",
    "    s = s.loc[s['point']>20,:]\n",
    "    ss = s.sort_values(by='point', ascending=False).reset_index()\n",
    "    ss['gu'] = i\n",
    "    result=result.append(ss[['검색지명', 'point', 'gu']])\n",
    "result.head(30)\n"
   ]
  },
  {
   "cell_type": "raw",
   "metadata": {},
   "source": [
    "cnt_seoul = seoul['검색지명'].value_counts()\n",
    "cnt_seoul"
   ]
  },
  {
   "cell_type": "markdown",
   "metadata": {},
   "source": [
    "# 카카오 api\n",
    "- 카카오 api 키워드로 장소검색을 사용하면 각각의 네비게이션 목적지들의 좌표값이 나온다.\n",
    "- 지하철 역일경우에는 인구 분포가 안나오는데 그외에는 나온다."
   ]
  },
  {
   "cell_type": "code",
   "execution_count": 35,
   "metadata": {},
   "outputs": [],
   "source": [
    "name = result.iloc[20,0]"
   ]
  },
  {
   "cell_type": "code",
   "execution_count": 36,
   "metadata": {
    "tags": []
   },
   "outputs": [
    {
     "output_type": "execute_result",
     "data": {
      "text/plain": "[{'address_name': '서울 강동구 길동 391-15',\n  'category_group_code': 'SW8',\n  'category_group_name': '지하철역',\n  'category_name': '교통,수송 > 지하철,전철 > 수도권5호선',\n  'distance': '',\n  'id': '21160663',\n  'phone': '02-6311-5491',\n  'place_name': '길동역 5호선',\n  'place_url': 'http://place.map.kakao.com/21160663',\n  'road_address_name': '서울 강동구 양재대로 지하 1480',\n  'x': '127.140021295948',\n  'y': '37.5378264874159'},\n {'address_name': '서울 강동구 길동 391-4',\n  'category_group_code': '',\n  'category_group_name': '',\n  'category_name': '가정,생활 > 미용 > 미용실 > 준오헤어',\n  'distance': '',\n  'id': '27387784',\n  'phone': '02-472-0605',\n  'place_name': '준오헤어 길동역점',\n  'place_url': 'http://place.map.kakao.com/27387784',\n  'road_address_name': '서울 강동구 양재대로 1484',\n  'x': '127.140383871105',\n  'y': '37.5380963568379'},\n {'address_name': '서울 강동구 길동 389-5',\n  'category_group_code': 'BK9',\n  'category_group_name': '은행',\n  'category_name': '금융,보험 > 금융서비스 > 은행 > 우리은행',\n  'distance': '',\n  'id': '8473356',\n  'phone': '02-478-9191',\n  'place_name': '우리은행 길동역지점',\n  'place_url': 'http://place.map.kakao.com/8473356',\n  'road_address_name': '서울 강동구 양재대로 1477',\n  'x': '127.139690787489',\n  'y': '37.5377620068635'},\n {'address_name': '서울 강동구 길동 378-6',\n  'category_group_code': '',\n  'category_group_name': '',\n  'category_name': '가정,생활 > 드럭스토어 > 올리브영',\n  'distance': '',\n  'id': '367073914',\n  'phone': '02-486-5290',\n  'place_name': '올리브영 길동역점',\n  'place_url': 'http://place.map.kakao.com/367073914',\n  'road_address_name': '서울 강동구 양재대로 1481',\n  'x': '127.13992581853202',\n  'y': '37.53819961442501'},\n {'address_name': '서울 강동구 길동 367-9',\n  'category_group_code': '',\n  'category_group_name': '',\n  'category_name': '가정,생활 > 패션 > 패션잡화점 > 안경,렌즈 > 다비치안경',\n  'distance': '',\n  'id': '14510150',\n  'phone': '02-473-2255',\n  'place_name': '다비치안경 길동역점',\n  'place_url': 'http://place.map.kakao.com/14510150',\n  'road_address_name': '서울 강동구 양재대로 1495',\n  'x': '127.14030000997037',\n  'y': '37.5392335178816'},\n {'address_name': '서울 강동구 길동 387-5',\n  'category_group_code': 'AG2',\n  'category_group_name': '중개업소',\n  'category_name': '부동산 > 부동산서비스 > 부동산중개업소',\n  'distance': '',\n  'id': '13138388',\n  'phone': '02-477-8545',\n  'place_name': '길동역청광공인중개사사무소',\n  'place_url': 'http://place.map.kakao.com/13138388',\n  'road_address_name': '서울 강동구 천중로42길 70',\n  'x': '127.138347062305',\n  'y': '37.5380086606199'},\n {'address_name': '서울 강동구 길동 445-1',\n  'category_group_code': '',\n  'category_group_name': '',\n  'category_name': '가정,생활 > 문구,사무용품 > 알파',\n  'distance': '',\n  'id': '24891313',\n  'phone': '02-478-7758',\n  'place_name': '알파 강동역점',\n  'place_url': 'http://place.map.kakao.com/24891313',\n  'road_address_name': '서울 강동구 천호대로 1107',\n  'x': '127.134794617618',\n  'y': '37.5356990013825'},\n {'address_name': '서울 강동구 길동 320-3',\n  'category_group_code': '',\n  'category_group_name': '',\n  'category_name': '가정,생활 > 미용 > 미용실 > 리안헤어',\n  'distance': '',\n  'id': '1509689468',\n  'phone': '02-482-5111',\n  'place_name': '리안헤어 굽은다리역점',\n  'place_url': 'http://place.map.kakao.com/1509689468',\n  'road_address_name': '서울 강동구 양재대로 1558',\n  'x': '127.142835711338',\n  'y': '37.544591422024'},\n {'address_name': '서울 강동구 길동 412-8',\n  'category_group_code': '',\n  'category_group_name': '',\n  'category_name': '스포츠,레저 > 야구 > 야구연습장 > 스크린야구장 > 스트라이크존',\n  'distance': '',\n  'id': '397632094',\n  'phone': '02-472-0707',\n  'place_name': '스트라이크존 서울길동역구장',\n  'place_url': 'http://place.map.kakao.com/397632094',\n  'road_address_name': '서울 강동구 양재대로 1465',\n  'x': '127.139295355711',\n  'y': '37.5368578702331'},\n {'address_name': '서울 강동구 길동 463',\n  'category_group_code': '',\n  'category_group_name': '',\n  'category_name': '교통,수송 > 입출구',\n  'distance': '',\n  'id': '74317877',\n  'phone': '',\n  'place_name': '천호역공영주차장 입구',\n  'place_url': 'http://place.map.kakao.com/74317877',\n  'road_address_name': '',\n  'x': '127.13581154689',\n  'y': '37.5349482042059'},\n {'address_name': '서울 강동구 길동 445-1',\n  'category_group_code': '',\n  'category_group_name': '',\n  'category_name': '부동산 > 주거시설 > 아파트',\n  'distance': '',\n  'id': '10992332',\n  'phone': '',\n  'place_name': '강동역SK허브아파트',\n  'place_url': 'http://place.map.kakao.com/10992332',\n  'road_address_name': '서울 강동구 천호대로 1107',\n  'x': '127.13492106528959',\n  'y': '37.5355474889802'},\n {'address_name': '서울 강동구 길동 320-1',\n  'category_group_code': '',\n  'category_group_name': '',\n  'category_name': '가정,생활 > 미용 > 미용실 > 블루클럽',\n  'distance': '',\n  'id': '11785187',\n  'phone': '02-488-5968',\n  'place_name': '블루클럽 굽은다리역점',\n  'place_url': 'http://place.map.kakao.com/11785187',\n  'road_address_name': '서울 강동구 양재대로 1562',\n  'x': '127.143116911529',\n  'y': '37.5448902130659'},\n {'address_name': '서울 강동구 길동 400',\n  'category_group_code': '',\n  'category_group_name': '',\n  'category_name': '금융,보험 > 금융서비스 > 협동,소비조합 > 농축협농협',\n  'distance': '',\n  'id': '19060478',\n  'phone': '02-489-2222',\n  'place_name': '한국양토양록농협 길동역지점',\n  'place_url': 'http://place.map.kakao.com/19060478',\n  'road_address_name': '서울 강동구 천호대로187길 74',\n  'x': '127.143388407779',\n  'y': '37.537757575047'},\n {'address_name': '서울 강동구 길동 439',\n  'category_group_code': '',\n  'category_group_name': '',\n  'category_name': '서비스,산업 > 정보통신 > SK텔레콤 > SKT대리점',\n  'distance': '',\n  'id': '8114592',\n  'phone': '02-477-8232',\n  'place_name': 'T world 길동역대리점 길동직영점',\n  'place_url': 'http://place.map.kakao.com/8114592',\n  'road_address_name': '서울 강동구 양재대로 1448',\n  'x': '127.139373607196',\n  'y': '37.5351314620454'},\n {'address_name': '서울 강동구 길동 412-8',\n  'category_group_code': '',\n  'category_group_name': '',\n  'category_name': '서비스,산업 > 정보통신 > LG유플러스 > LGT대리점',\n  'distance': '',\n  'id': '59453902',\n  'phone': '070-5022-5475',\n  'place_name': 'LG유플러스 길동 길동역점',\n  'place_url': 'http://place.map.kakao.com/59453902',\n  'road_address_name': '서울 강동구 양재대로 1465',\n  'x': '127.139408621401',\n  'y': '37.5369226085617'}]"
     },
     "metadata": {},
     "execution_count": 36
    }
   ],
   "source": [
    "# cnt_df.plot(kind='bar')\n",
    "import requests\n",
    "from decouple import config\n",
    "ka_key = config('KAKAO_RESTAPI')\n",
    "kakao_url = 'https://dapi.kakao.com/v2/local/search/keyword.json?query='+name\n",
    "h = {\n",
    "    'Authorization': 'KakaoAK '+ka_key\n",
    "}\n",
    "res = requests.get(kakao_url, headers=h)\n",
    "location_data = res.json()['documents']\n",
    "# 구, 동 따로 구별해서 저장해주기\n",
    "address = location_data[0]['address_name']\n",
    "place_url = location_data[0]['place_url']\n",
    "place_x = location_data[0]['x']\n",
    "place_y = location_data[0]['y']\n",
    "# print(place_x, place_y, address)\n",
    "location_data"
   ]
  },
  {
   "cell_type": "code",
   "execution_count": 37,
   "metadata": {
    "tags": []
   },
   "outputs": [
    {
     "output_type": "stream",
     "name": "stdout",
     "text": "강동구 길동\n"
    }
   ],
   "source": [
    "add_sp=address.split()\n",
    "place_dong, place_gu = add_sp[2], add_sp[1]\n",
    "print(place_gu, place_dong)"
   ]
  },
  {
   "cell_type": "code",
   "execution_count": 38,
   "metadata": {},
   "outputs": [
    {
     "output_type": "execute_result",
     "data": {
      "text/plain": "{'documents': [{'address_name': '서울 강동구 길동 378-3',\n   'category_group_code': 'CE7',\n   'category_group_name': '카페',\n   'category_name': '음식점 > 카페 > 커피전문점 > 스타벅스',\n   'distance': '98',\n   'id': '25017323',\n   'phone': '1522-3232',\n   'place_name': '스타벅스 길동역점',\n   'place_url': 'http://place.map.kakao.com/25017323',\n   'road_address_name': '서울 강동구 양재대로 1487',\n   'x': '127.140059161042',\n   'y': '37.5387130260926'},\n  {'address_name': '서울 강동구 길동 367-14',\n   'category_group_code': 'CE7',\n   'category_group_name': '카페',\n   'category_name': '음식점 > 카페',\n   'distance': '130',\n   'id': '1832772086',\n   'phone': '010-6669-6609',\n   'place_name': '빈터커피로스터스 길동점',\n   'place_url': 'http://place.map.kakao.com/1832772086',\n   'road_address_name': '서울 강동구 양재대로115길 10',\n   'x': '127.139788117831',\n   'y': '37.5389872510917'},\n  {'address_name': '서울 강동구 길동 366-5',\n   'category_group_code': 'CE7',\n   'category_group_name': '카페',\n   'category_name': '음식점 > 카페',\n   'distance': '123',\n   'id': '973086101',\n   'phone': '',\n   'place_name': '바나프레소 길동역점',\n   'place_url': 'http://place.map.kakao.com/973086101',\n   'road_address_name': '서울 강동구 양재대로 1490',\n   'x': '127.140661310019',\n   'y': '37.5388204303276'},\n  {'address_name': '서울 강동구 길동 438',\n   'category_group_code': 'CE7',\n   'category_group_name': '카페',\n   'category_name': '음식점 > 카페 > 커피전문점 > 커핀 그루나루',\n   'distance': '284',\n   'id': '12983838',\n   'phone': '02-484-8808',\n   'place_name': '커핀그루나루 길동사거리점',\n   'place_url': 'http://place.map.kakao.com/12983838',\n   'road_address_name': '서울 강동구 양재대로 1450',\n   'x': '127.139446333678',\n   'y': '37.5353007642006'},\n  {'address_name': '서울 강동구 길동 380-11',\n   'category_group_code': 'CE7',\n   'category_group_name': '카페',\n   'category_name': '음식점 > 카페 > 다방',\n   'distance': '186',\n   'id': '18294024',\n   'phone': '02-479-3441',\n   'place_name': '선가다방',\n   'place_url': 'http://place.map.kakao.com/18294024',\n   'road_address_name': '서울 강동구 천중로40길 55',\n   'x': '127.138126311957',\n   'y': '37.5385603307774'},\n  {'address_name': '서울 강동구 길동 412-8',\n   'category_group_code': 'CE7',\n   'category_group_name': '카페',\n   'category_name': '음식점 > 카페 > 커피전문점 > 메가커피',\n   'distance': '126',\n   'id': '1195736847',\n   'phone': '',\n   'place_name': '메가커피 길동역점',\n   'place_url': 'http://place.map.kakao.com/1195736847',\n   'road_address_name': '서울 강동구 양재대로 1465',\n   'x': '127.139313425375',\n   'y': '37.5368398289218'},\n  {'address_name': '서울 강동구 길동 389-2',\n   'category_group_code': 'CE7',\n   'category_group_name': '카페',\n   'category_name': '음식점 > 카페 > 커피전문점 > 이디야커피',\n   'distance': '76',\n   'id': '16446751',\n   'phone': '02-488-5675',\n   'place_name': '이디야커피 길동역점',\n   'place_url': 'http://place.map.kakao.com/16446751',\n   'road_address_name': '서울 강동구 양재대로 1471',\n   'x': '127.139531435822',\n   'y': '37.537254031426'},\n  {'address_name': '서울 강동구 길동 366-14',\n   'category_group_code': 'CE7',\n   'category_group_name': '카페',\n   'category_name': '음식점 > 카페',\n   'distance': '200',\n   'id': '21304331',\n   'phone': '02-470-6859',\n   'place_name': '카페아스노바',\n   'place_url': 'http://place.map.kakao.com/21304331',\n   'road_address_name': '서울 강동구 양재대로 1500',\n   'x': '127.140911496831',\n   'y': '37.5394904756317'},\n  {'address_name': '서울 강동구 길동 392-1',\n   'category_group_code': 'CE7',\n   'category_group_name': '카페',\n   'category_name': '음식점 > 카페 > 커피전문점 > 커피에반하다',\n   'distance': '127',\n   'id': '937431288',\n   'phone': '02-470-9455',\n   'place_name': '커피에반하다 길동역점',\n   'place_url': 'http://place.map.kakao.com/937431288',\n   'road_address_name': '서울 강동구 양재대로116길 16',\n   'x': '127.141262488466',\n   'y': '37.5384124609362'},\n  {'address_name': '서울 강동구 길동 394-2',\n   'category_group_code': 'CE7',\n   'category_group_name': '카페',\n   'category_name': '음식점 > 카페',\n   'distance': '83',\n   'id': '127953014',\n   'phone': '02-477-9257',\n   'place_name': '해밀카페',\n   'place_url': 'http://place.map.kakao.com/127953014',\n   'road_address_name': '서울 강동구 진황도로47길 66',\n   'x': '127.140853375414',\n   'y': '37.5374650980215'},\n  {'address_name': '서울 강동구 길동 375-4',\n   'category_group_code': 'CE7',\n   'category_group_name': '카페',\n   'category_name': '음식점 > 카페 > 커피전문점',\n   'distance': '258',\n   'id': '27246186',\n   'phone': '010-9930-9407',\n   'place_name': '스베아',\n   'place_url': 'http://place.map.kakao.com/27246186',\n   'road_address_name': '서울 강동구 천중로40길 34',\n   'x': '127.138236976139',\n   'y': '37.5396666286247'},\n  {'address_name': '서울 강동구 길동 380-13',\n   'category_group_code': 'CE7',\n   'category_group_name': '카페',\n   'category_name': '음식점 > 카페',\n   'distance': '168',\n   'id': '308778812',\n   'phone': '010-7608-4004',\n   'place_name': '나는 꽃 커피',\n   'place_url': 'http://place.map.kakao.com/308778812',\n   'road_address_name': '서울 강동구 양재대로113길 30',\n   'x': '127.138252751036',\n   'y': '37.5384052108945'},\n  {'address_name': '서울 강동구 길동 412-10',\n   'category_group_code': 'CE7',\n   'category_group_name': '카페',\n   'category_name': '음식점 > 카페',\n   'distance': '173',\n   'id': '18821339',\n   'phone': '070-4175-3537',\n   'place_name': '900커피&비어',\n   'place_url': 'http://place.map.kakao.com/18821339',\n   'road_address_name': '',\n   'x': '127.139104495666',\n   'y': '37.5364400312858'},\n  {'address_name': '서울 강동구 길동 411-1',\n   'category_group_code': 'CE7',\n   'category_group_name': '카페',\n   'category_name': '음식점 > 카페',\n   'distance': '130',\n   'id': '2070029406',\n   'phone': '02-470-0904',\n   'place_name': '모비딕',\n   'place_url': 'http://place.map.kakao.com/2070029406',\n   'road_address_name': '서울 강동구 양재대로 1466',\n   'x': '127.13980188837',\n   'y': '37.5366662597099'},\n  {'address_name': '서울 강동구 길동 391-14',\n   'category_group_code': 'CE7',\n   'category_group_name': '카페',\n   'category_name': '음식점 > 카페',\n   'distance': '60',\n   'id': '797664987',\n   'phone': '',\n   'place_name': '심플커피 길동점',\n   'place_url': 'http://place.map.kakao.com/797664987',\n   'road_address_name': '서울 강동구 진황도로47길 73',\n   'x': '127.140700133608',\n   'y': '37.5378040565738'}],\n 'meta': {'is_end': False,\n  'pageable_count': 24,\n  'same_name': None,\n  'total_count': 24}}"
     },
     "metadata": {},
     "execution_count": 38
    }
   ],
   "source": [
    "kakao_category_url = f'https://dapi.kakao.com/v2/local/search/category.json?category_group_code=CE7&x={place_x}&y={place_y}&radius=300'\n",
    "cate_res = requests.get(kakao_category_url, headers=h)\n",
    "cate_res.json()"
   ]
  },
  {
   "cell_type": "code",
   "execution_count": 32,
   "metadata": {},
   "outputs": [
    {
     "output_type": "execute_result",
     "data": {
      "text/plain": "15"
     },
     "metadata": {},
     "execution_count": 32
    }
   ],
   "source": [
    "len(cate_res.json()['documents'])"
   ]
  }
 ],
 "metadata": {
  "kernelspec": {
   "display_name": "Python 3.8.4 64-bit",
   "language": "python",
   "name": "python_defaultSpec_1595829740896"
  },
  "language_info": {
   "codemirror_mode": {
    "name": "ipython",
    "version": 3
   },
   "file_extension": ".py",
   "mimetype": "text/x-python",
   "name": "python",
   "nbconvert_exporter": "python",
   "pygments_lexer": "ipython3",
   "version": "3.8.4-final"
  }
 },
 "nbformat": 4,
 "nbformat_minor": 4
}
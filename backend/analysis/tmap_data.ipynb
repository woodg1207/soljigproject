{
 "cells": [
  {
   "cell_type": "code",
   "execution_count": 122,
   "metadata": {},
   "outputs": [],
   "source": [
    "import pandas as pd"
   ]
  },
  {
   "cell_type": "code",
   "execution_count": 2,
   "metadata": {},
   "outputs": [],
   "source": [
    "tmap = pd.read_csv('../data/Tmap_2005.csv')"
   ]
  },
  {
   "cell_type": "code",
   "execution_count": 71,
   "metadata": {
    "tags": []
   },
   "outputs": [
    {
     "output_type": "execute_result",
     "data": {
      "text/plain": "(23250, 8)"
     },
     "metadata": {},
     "execution_count": 71
    }
   ],
   "source": [
    "c1 = tmap['지역(시도)'] == '서울'\n",
    "select_list = ['공공기관', '의료시설', '연구기관', '업종별기업', '행정기관', '종교', '가정의례']\n",
    "# c2 = tmap['지역(시군구)'] == '강남구'\n",
    "# c2 = tmap['일자']==20200510\n",
    "seoul = tmap.loc[c1,:]\n",
    "seoul.shape"
   ]
  },
  {
   "cell_type": "code",
   "execution_count": 169,
   "metadata": {},
   "outputs": [
    {
     "output_type": "execute_result",
     "data": {
      "text/plain": "array(['아파트브랜드', '지하철역', '아파트단지', '백화점', '아파트건설사', '공원', '할인점', '주상복합',\n       '농수축산물시장', '대학교', '쇼핑센터', '테마파크', '주요빌딩', '일반상가', '산업시설기타',\n       '고속도로 IC', '오피스텔', '스케이트장', '기차역', '전망대', '주차장', '박물관/기념관', '호텔',\n       '전자제품양판점', '도서관', '극장', '커피전문점', '고등학교', '종합시장', '서적브랜드', '전문상가',\n       '한식', '미술관', '드라이브코스', '문화유적지', '고궁', '버스터미널', '초등학교', '전시장',\n       '수족관', '부페', '공항', '농수축산물점', '교차로', '학교내시설물', '유원지', '재래시장', '방송사',\n       '운동장/체육관', '슈퍼마켓', '공연장', '섬', '분식', '기념비', '중학교', '아파트형공장',\n       '종합스포츠센타', '골프장', '대한상공회의소', '은행', '주요건물기타', '주유소', '자동차영업소',\n       '중고차매매', '대교/철교', '사회복지시설', '화랑/전시관', '삼성', '센터', '능묘', '회관',\n       '도시고속화도로IC', '축제', '운전면허시험장', 'LG유플러스', '호수', '한샘가구', '관광안내소',\n       '장난감', '동식물원', '패밀리레스토랑', '놀이시설'], dtype=object)"
     },
     "metadata": {},
     "execution_count": 169
    }
   ],
   "source": [
    "l = []\n",
    "for i in select_list:\n",
    "    select_condition2 = tmap['검색지유형2']==i\n",
    "    seoul_index = seoul.loc[select_condition2,:].index\n",
    "    # l.append(seoul_index)\n",
    "    l.extend(seoul_index)\n",
    "new_seoul = seoul.drop(l)\n",
    "new_seoul['검색지유형3'].unique()\n",
    "# seoul['검색지유형2'].unique()\n",
    "# seoul['검색지유형3'].unique()"
   ]
  },
  {
   "cell_type": "code",
   "execution_count": 170,
   "metadata": {
    "tags": []
   },
   "outputs": [
    {
     "output_type": "execute_result",
     "data": {
      "text/plain": "array(['강동구', '성동구', '송파구', '양천구', '영등포구', '용산구', '종로구', '중랑구', '강남구',\n       '강서구', '관악구', '광진구', '동작구', '마포구', '서초구', '은평구', '강북구', '구로구',\n       '노원구', '도봉구', '동대문구', '성북구', '중구', '금천구', '서대문구'], dtype=object)"
     },
     "metadata": {},
     "execution_count": 170
    }
   ],
   "source": [
    "# 서울시 구\n",
    "gu_list = new_seoul['지역(시군구)'].unique()\n",
    "# 점수주기\n",
    "new_seoul['point'] = 31-new_seoul['검색지랭킹(시군구내)']\n",
    "# 지역별 점수 합산\n",
    "result = pd.DataFrame()\n",
    "for i in gu_list:\n",
    "    con_gu = new_seoul['지역(시군구)'] == i\n",
    "    # print(i)\n",
    "    gu_seoul = new_seoul.loc[con_gu, :]\n",
    "    s = gu_seoul.groupby(by=['검색지명']).sum()\n",
    "    s = s.loc[s['point']>20,:]\n",
    "    ss = s.sort_values(by='point', ascending=False).reset_index()\n",
    "    ss['gu'] = i\n",
    "    result=result.append(ss[['검색지명', 'point', 'gu']])\n",
    "result.head(40)\n",
    "gu_list"
   ]
  },
  {
   "cell_type": "code",
   "execution_count": 153,
   "metadata": {},
   "outputs": [],
   "source": [
    "cnt_seoul = seoul['검색지명'].value_counts()"
   ]
  },
  {
   "cell_type": "raw",
   "metadata": {},
   "source": [
    "cnt_seoul = seoul['검색지명'].value_counts()\n",
    "cnt_seoul"
   ]
  },
  {
   "cell_type": "code",
   "execution_count": 154,
   "metadata": {},
   "outputs": [],
   "source": [
    "type(cnt_seoul)\n",
    "data = {'name':[], 'count':[]}\n",
    "for idx, i in enumerate(cnt_seoul.index):\n",
    "    if cnt_seoul[idx]<=1: break\n",
    "    data['name'].append(i)\n",
    "    data['count'].append(cnt_seoul[idx])\n",
    "data\n",
    "cnt_df = pd.DataFrame(data)\n",
    "# cnt_df.head(50)\n",
    "# 음 한달동안 서울에서 20회 이하는 삭제했을때 "
   ]
  },
  {
   "cell_type": "markdown",
   "metadata": {},
   "source": [
    "# 카카오 api\n",
    "- 카카오 api 키워드로 장소검색을 사용하면 각각의 네비게이션 목적지들의 좌표값이 나온다.\n",
    "- 지하철 역일경우에는 인구 분포가 안나오는데 그외에는 나온다."
   ]
  },
  {
   "cell_type": "code",
   "execution_count": 8,
   "metadata": {},
   "outputs": [
    {
     "output_type": "execute_result",
     "data": {
      "text/plain": "{'documents': [{'address_name': '서울 노원구 월계동 447-1',\n   'category_group_code': 'SC4',\n   'category_group_name': '학교',\n   'category_name': '교육,학문 > 학교 > 대학교',\n   'distance': '',\n   'id': '10148561',\n   'phone': '02-940-5114',\n   'place_name': '광운대학교',\n   'place_url': 'http://place.map.kakao.com/10148561',\n   'road_address_name': '서울 노원구 광운로 20',\n   'x': '127.058270608867',\n   'y': '37.6192404638865'},\n  {'address_name': '서울 노원구 월계동 466',\n   'category_group_code': '',\n   'category_group_name': '',\n   'category_name': '교육,학문 > 학교부속시설',\n   'distance': '',\n   'id': '17564275',\n   'phone': '02-940-8614',\n   'place_name': '광운대학교 동해문화예술관',\n   'place_url': 'http://place.map.kakao.com/17564275',\n   'road_address_name': '서울 노원구 광운로 21',\n   'x': '127.057577863828',\n   'y': '37.6198462676801'},\n  {'address_name': '서울 노원구 월계동 466',\n   'category_group_code': 'CT1',\n   'category_group_name': '문화시설',\n   'category_name': '문화,예술 > 문화시설 > 공연장,연극극장',\n   'distance': '',\n   'id': '1817730210',\n   'phone': '',\n   'place_name': '광운대학교 동해문화예술관 대극장',\n   'place_url': 'http://place.map.kakao.com/1817730210',\n   'road_address_name': '서울 노원구 광운로 21',\n   'x': '127.05759144243',\n   'y': '37.6198282413004'},\n  {'address_name': '서울 노원구 월계동 465-41',\n   'category_group_code': '',\n   'category_group_name': '',\n   'category_name': '교육,학문 > 학교부속시설',\n   'distance': '',\n   'id': '17566581',\n   'phone': '',\n   'place_name': '광운대학교 한울관',\n   'place_url': 'http://place.map.kakao.com/17566581',\n   'road_address_name': '서울 노원구 광운로 27-38',\n   'x': '127.057057429366',\n   'y': '37.6206465974719'},\n  {'address_name': '서울 노원구 월계동 500-40',\n   'category_group_code': '',\n   'category_group_name': '',\n   'category_name': '부동산 > 주거시설 > 기숙사,기숙시설',\n   'distance': '',\n   'id': '614748387',\n   'phone': '02-940-5282',\n   'place_name': '광운대학교 공공기숙사빛솔재',\n   'place_url': 'http://place.map.kakao.com/614748387',\n   'road_address_name': '서울 노원구 광운로 21',\n   'x': '127.05633764726',\n   'y': '37.6214794557542'},\n  {'address_name': '서울 노원구 월계동 466',\n   'category_group_code': '',\n   'category_group_name': '',\n   'category_name': '스포츠,레저 > 스케이트 > 스케이트장',\n   'distance': '',\n   'id': '10156264',\n   'phone': '02-909-3114',\n   'place_name': '광운대학교 아이스링크',\n   'place_url': 'http://place.map.kakao.com/10156264',\n   'road_address_name': '서울 노원구 광운로 21',\n   'x': '127.057193096323',\n   'y': '37.6203077604657'},\n  {'address_name': '서울 노원구 월계동 447-1',\n   'category_group_code': '',\n   'category_group_name': '',\n   'category_name': '교육,학문 > 학교부속시설',\n   'distance': '',\n   'id': '823736351',\n   'phone': '',\n   'place_name': '광운대학교 80주년기념관',\n   'place_url': 'http://place.map.kakao.com/823736351',\n   'road_address_name': '서울 노원구 광운로 20',\n   'x': '127.0587072414654',\n   'y': '37.619931305040545'},\n  {'address_name': '서울 노원구 월계동 447-1',\n   'category_group_code': '',\n   'category_group_name': '',\n   'category_name': '사회,공공기관 > 행정기관 > 과학기술정보통신부 > 우체국 > 우편취급국',\n   'distance': '',\n   'id': '18132873',\n   'phone': '',\n   'place_name': '광운대학교우편취급국',\n   'place_url': 'http://place.map.kakao.com/18132873',\n   'road_address_name': '서울 노원구 광운로 20',\n   'x': '127.05896020643866',\n   'y': '37.62040059346702'},\n  {'address_name': '서울 노원구 월계동 447-1',\n   'category_group_code': '',\n   'category_group_name': '',\n   'category_name': '교육,학문 > 학교부속시설',\n   'distance': '',\n   'id': '17561911',\n   'phone': '',\n   'place_name': '광운대학교 비마관',\n   'place_url': 'http://place.map.kakao.com/17561911',\n   'road_address_name': '서울 노원구 광운로 20',\n   'x': '127.059933686195',\n   'y': '37.6195820062722'},\n  {'address_name': '서울 노원구 월계동 383-4',\n   'category_group_code': 'CE7',\n   'category_group_name': '카페',\n   'category_name': '음식점 > 카페',\n   'distance': '',\n   'id': '22577995',\n   'phone': '02-941-3890',\n   'place_name': '와플대학 광운대캠퍼스',\n   'place_url': 'http://place.map.kakao.com/22577995',\n   'road_address_name': '서울 노원구 광운로 64',\n   'x': '127.06018097652368',\n   'y': '37.62283985104657'},\n  {'address_name': '서울 노원구 월계동 447-1',\n   'category_group_code': '',\n   'category_group_name': '',\n   'category_name': '교육,학문 > 학교부속시설',\n   'distance': '',\n   'id': '715015774',\n   'phone': '',\n   'place_name': '광운대학교 새빛관',\n   'place_url': 'http://place.map.kakao.com/715015774',\n   'road_address_name': '서울 노원구 광운로 20',\n   'x': '127.060889862124',\n   'y': '37.6197941498518'},\n  {'address_name': '서울 노원구 월계동 505-2',\n   'category_group_code': '',\n   'category_group_name': '',\n   'category_name': '교육,학문 > 학교부속시설',\n   'distance': '',\n   'id': '12721052',\n   'phone': '',\n   'place_name': '광운대학교 누리관',\n   'place_url': 'http://place.map.kakao.com/12721052',\n   'road_address_name': '서울 노원구 광운로1길 60',\n   'x': '127.054995691942',\n   'y': '37.6203952998464'},\n  {'address_name': '서울 노원구 월계동 447-1',\n   'category_group_code': '',\n   'category_group_name': '',\n   'category_name': '교육,학문 > 학교부속시설',\n   'distance': '',\n   'id': '11032521',\n   'phone': '02-940-8226',\n   'place_name': '광운대학교 정보과학교육원',\n   'place_url': 'http://place.map.kakao.com/11032521',\n   'road_address_name': '서울 노원구 광운로 20',\n   'x': '127.058270628556',\n   'y': '37.6192656915341'},\n  {'address_name': '서울 노원구 월계동 447-1',\n   'category_group_code': '',\n   'category_group_name': '',\n   'category_name': '교육,학문 > 학습시설 > 도서관',\n   'distance': '',\n   'id': '17555966',\n   'phone': '02-940-5268',\n   'place_name': '광운대학교 중앙도서관',\n   'place_url': 'http://place.map.kakao.com/17555966',\n   'road_address_name': '서울 노원구 광운로 20',\n   'x': '127.058805946885',\n   'y': '37.6201339781116'},\n  {'address_name': '서울 노원구 월계동 466',\n   'category_group_code': 'PK6',\n   'category_group_name': '주차장',\n   'category_name': '교통,수송 > 교통시설 > 주차장',\n   'distance': '',\n   'id': '964798968',\n   'phone': '',\n   'place_name': '광운대학교 동해문화예술관 한울관 주차장',\n   'place_url': 'http://place.map.kakao.com/964798968',\n   'road_address_name': '서울 노원구 광운로 21',\n   'x': '127.057065359787',\n   'y': '37.6206483956122'}],\n 'meta': {'is_end': False,\n  'pageable_count': 45,\n  'same_name': {'keyword': '광운대학교', 'region': [], 'selected_region': ''},\n  'total_count': 223}}"
     },
     "metadata": {},
     "execution_count": 8
    }
   ],
   "source": [
    "# cnt_df.plot(kind='bar')\n",
    "import requests\n",
    "from decouple import config\n",
    "ka_key = config('KAKAO_RESTAPI')\n",
    "kakao_url = 'https://dapi.kakao.com/v2/local/search/keyword.json?query=광운대학교'\n",
    "h = {\n",
    "    'Authorization': 'KakaoAK '+ka_key\n",
    "}\n",
    "res = requests.get(kakao_url, headers=h)\n",
    "res.json()"
   ]
  },
  {
   "cell_type": "markdown",
   "metadata": {},
   "source": [
    "# 전체지역"
   ]
  },
  {
   "cell_type": "code",
   "execution_count": 21,
   "metadata": {},
   "outputs": [
    {
     "output_type": "execute_result",
     "data": {
      "text/plain": "솔내음          95\n수림정          93\n목월빵집         93\n하우스베이커리      93\n이성당          93\n             ..\n영덕읍행정복지센터     1\n재능중학교         1\n한일합섬의령공장      1\n서영여자고등학교      1\n구미시보건소        1\nName: 검색지명, Length: 16307, dtype: int64"
     },
     "metadata": {},
     "execution_count": 21
    }
   ],
   "source": [
    "cnt_tmap = tmap['검색지명'].value_counts()\n",
    "cnt_tmap"
   ]
  }
 ],
 "metadata": {
  "kernelspec": {
   "display_name": "Python 3.8.4 64-bit",
   "language": "python",
   "name": "python_defaultSpec_1595763409273"
  },
  "language_info": {
   "codemirror_mode": {
    "name": "ipython",
    "version": 3
   },
   "file_extension": ".py",
   "mimetype": "text/x-python",
   "name": "python",
   "nbconvert_exporter": "python",
   "pygments_lexer": "ipython3",
   "version": "3.8.4-final"
  }
 },
 "nbformat": 4,
 "nbformat_minor": 4
}
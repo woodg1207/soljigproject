{
 "cells": [
  {
   "cell_type": "code",
   "execution_count": 1,
   "metadata": {},
   "outputs": [],
   "source": [
    "%matplotlib inline\n",
    "import pandas as pd"
   ]
  },
  {
   "cell_type": "code",
   "execution_count": 2,
   "metadata": {},
   "outputs": [],
   "source": [
    "tmap = pd.read_csv('../data/Tmap_2005.csv')"
   ]
  },
  {
   "cell_type": "code",
   "execution_count": 3,
   "metadata": {},
   "outputs": [
    {
     "output_type": "execute_result",
     "data": {
      "text/plain": "              일자 지역(시도)  지역(시군구)             검색지명 검색지유형1  검색지유형2    검색지유형3  \\\n0       20200510     강원      삼척시            쏠비치삼척  여행/레저      숙박    콘도/리조트   \n1       20200510     강원      삼척시   삼척해양레일바이크용화정거장  여행/레저  레저/스포츠  레저/스포츠기타   \n2       20200510     강원      삼척시              장호항   교통편의    교통시설        항구   \n3       20200510     강원      삼척시   삼척해양레일바이크궁촌정거장  여행/레저  레저/스포츠  레저/스포츠기타   \n4       20200510     강원      삼척시            해신당공원  여행/레저    관광명소        공원   \n...          ...    ...      ...              ...    ...     ...       ...   \n232495  20200503     충북  청주시 청원구        초정약수세종스파텔  여행/레저    관광명소        온천   \n232496  20200503     충북  청주시 청원구       더휴센트럴파크아파트  건물/시설    주요건물     아파트단지   \n232497  20200503     충북  청주시 청원구       오창대성베르힐아파트  건물/시설    주요건물     아파트단지   \n232498  20200503     충북  청주시 청원구  오창모아미래도와이드시티아파트  건물/시설    주요건물     아파트단지   \n232499  20200503     충북  청주시 청원구            신화아파트  건물/시설    주요건물     아파트단지   \n\n        검색지랭킹(시군구내)  \n0                 1  \n1                 2  \n2                 3  \n3                 4  \n4                 5  \n...             ...  \n232495           26  \n232496           27  \n232497           28  \n232498           29  \n232499           30  \n\n[232500 rows x 8 columns]",
      "text/html": "<div>\n<style scoped>\n    .dataframe tbody tr th:only-of-type {\n        vertical-align: middle;\n    }\n\n    .dataframe tbody tr th {\n        vertical-align: top;\n    }\n\n    .dataframe thead th {\n        text-align: right;\n    }\n</style>\n<table border=\"1\" class=\"dataframe\">\n  <thead>\n    <tr style=\"text-align: right;\">\n      <th></th>\n      <th>일자</th>\n      <th>지역(시도)</th>\n      <th>지역(시군구)</th>\n      <th>검색지명</th>\n      <th>검색지유형1</th>\n      <th>검색지유형2</th>\n      <th>검색지유형3</th>\n      <th>검색지랭킹(시군구내)</th>\n    </tr>\n  </thead>\n  <tbody>\n    <tr>\n      <th>0</th>\n      <td>20200510</td>\n      <td>강원</td>\n      <td>삼척시</td>\n      <td>쏠비치삼척</td>\n      <td>여행/레저</td>\n      <td>숙박</td>\n      <td>콘도/리조트</td>\n      <td>1</td>\n    </tr>\n    <tr>\n      <th>1</th>\n      <td>20200510</td>\n      <td>강원</td>\n      <td>삼척시</td>\n      <td>삼척해양레일바이크용화정거장</td>\n      <td>여행/레저</td>\n      <td>레저/스포츠</td>\n      <td>레저/스포츠기타</td>\n      <td>2</td>\n    </tr>\n    <tr>\n      <th>2</th>\n      <td>20200510</td>\n      <td>강원</td>\n      <td>삼척시</td>\n      <td>장호항</td>\n      <td>교통편의</td>\n      <td>교통시설</td>\n      <td>항구</td>\n      <td>3</td>\n    </tr>\n    <tr>\n      <th>3</th>\n      <td>20200510</td>\n      <td>강원</td>\n      <td>삼척시</td>\n      <td>삼척해양레일바이크궁촌정거장</td>\n      <td>여행/레저</td>\n      <td>레저/스포츠</td>\n      <td>레저/스포츠기타</td>\n      <td>4</td>\n    </tr>\n    <tr>\n      <th>4</th>\n      <td>20200510</td>\n      <td>강원</td>\n      <td>삼척시</td>\n      <td>해신당공원</td>\n      <td>여행/레저</td>\n      <td>관광명소</td>\n      <td>공원</td>\n      <td>5</td>\n    </tr>\n    <tr>\n      <th>...</th>\n      <td>...</td>\n      <td>...</td>\n      <td>...</td>\n      <td>...</td>\n      <td>...</td>\n      <td>...</td>\n      <td>...</td>\n      <td>...</td>\n    </tr>\n    <tr>\n      <th>232495</th>\n      <td>20200503</td>\n      <td>충북</td>\n      <td>청주시 청원구</td>\n      <td>초정약수세종스파텔</td>\n      <td>여행/레저</td>\n      <td>관광명소</td>\n      <td>온천</td>\n      <td>26</td>\n    </tr>\n    <tr>\n      <th>232496</th>\n      <td>20200503</td>\n      <td>충북</td>\n      <td>청주시 청원구</td>\n      <td>더휴센트럴파크아파트</td>\n      <td>건물/시설</td>\n      <td>주요건물</td>\n      <td>아파트단지</td>\n      <td>27</td>\n    </tr>\n    <tr>\n      <th>232497</th>\n      <td>20200503</td>\n      <td>충북</td>\n      <td>청주시 청원구</td>\n      <td>오창대성베르힐아파트</td>\n      <td>건물/시설</td>\n      <td>주요건물</td>\n      <td>아파트단지</td>\n      <td>28</td>\n    </tr>\n    <tr>\n      <th>232498</th>\n      <td>20200503</td>\n      <td>충북</td>\n      <td>청주시 청원구</td>\n      <td>오창모아미래도와이드시티아파트</td>\n      <td>건물/시설</td>\n      <td>주요건물</td>\n      <td>아파트단지</td>\n      <td>29</td>\n    </tr>\n    <tr>\n      <th>232499</th>\n      <td>20200503</td>\n      <td>충북</td>\n      <td>청주시 청원구</td>\n      <td>신화아파트</td>\n      <td>건물/시설</td>\n      <td>주요건물</td>\n      <td>아파트단지</td>\n      <td>30</td>\n    </tr>\n  </tbody>\n</table>\n<p>232500 rows × 8 columns</p>\n</div>"
     },
     "metadata": {},
     "execution_count": 3
    }
   ],
   "source": [
    "tmap"
   ]
  },
  {
   "cell_type": "code",
   "execution_count": 4,
   "metadata": {
    "tags": []
   },
   "outputs": [
    {
     "output_type": "stream",
     "name": "stdout",
     "text": "<class 'pandas.core.frame.DataFrame'>\nRangeIndex: 232500 entries, 0 to 232499\nData columns (total 8 columns):\n #   Column       Non-Null Count   Dtype \n---  ------       --------------   ----- \n 0   일자           232500 non-null  int64 \n 1   지역(시도)       232500 non-null  object\n 2   지역(시군구)      232500 non-null  object\n 3   검색지명         232500 non-null  object\n 4   검색지유형1       232500 non-null  object\n 5   검색지유형2       232500 non-null  object\n 6   검색지유형3       232500 non-null  object\n 7   검색지랭킹(시군구내)  232500 non-null  int64 \ndtypes: int64(2), object(6)\nmemory usage: 14.2+ MB\n"
    }
   ],
   "source": [
    "tmap.info()"
   ]
  },
  {
   "cell_type": "markdown",
   "metadata": {},
   "source": [
    "# 서울지역만 하는 경우\n",
    "## 노원구 한정"
   ]
  },
  {
   "cell_type": "code",
   "execution_count": 71,
   "metadata": {
    "tags": []
   },
   "outputs": [
    {
     "output_type": "execute_result",
     "data": {
      "text/plain": "(23250, 8)"
     },
     "metadata": {},
     "execution_count": 71
    }
   ],
   "source": [
    "c1 = tmap['지역(시도)'] == '서울'\n",
    "select_list = ['공공기관', '의료시설', '연구기관', '업종별기업', '행정기관', '종교', '가정의례']\n",
    "# c2 = tmap['지역(시군구)'] == '강남구'\n",
    "# c2 = tmap['일자']==20200510\n",
    "seoul = tmap.loc[c1,:]\n",
    "seoul.shape"
   ]
  },
  {
   "cell_type": "code",
   "execution_count": 73,
   "metadata": {},
   "outputs": [
    {
     "output_type": "execute_result",
     "data": {
      "text/plain": "array(['주요건물', '교통시설', '대형유통점', '관광명소', '시장', '교육기관', '레저/스포츠', '쇼핑기타',\n       '산업시설', '자동차시설', '문화생활시설', '숙박', '카페', '문화용품', '음식점', '데이트코스',\n       '음식료', '구역내시설물', '언론기관', '각종단체', '주요금융', '사회시설', '주요그룹', '정보통신기기',\n       '가구', '취미/오락'], dtype=object)"
     },
     "metadata": {},
     "execution_count": 73
    }
   ],
   "source": [
    "l = []\n",
    "for i in select_list:\n",
    "    select_condition2 = tmap['검색지유형2']==i\n",
    "    seoul_index = seoul.loc[select_condition2,:].index\n",
    "    # l.append(seoul_index)\n",
    "    l.extend(seoul_index)\n",
    "l\n",
    "new_seoul = seoul.drop(l)\n",
    "new_seoul['검색지유형2'].unique()"
   ]
  },
  {
   "cell_type": "code",
   "execution_count": 76,
   "metadata": {},
   "outputs": [
    {
     "output_type": "execute_result",
     "data": {
      "text/plain": "array(['강동구', '성동구', '송파구', '양천구', '영등포구', '용산구', '종로구', '중랑구', '강남구',\n       '강서구', '관악구', '광진구', '동작구', '마포구', '서초구', '은평구', '강북구', '구로구',\n       '노원구', '도봉구', '동대문구', '성북구', '중구', '금천구', '서대문구'], dtype=object)"
     },
     "metadata": {},
     "execution_count": 76
    }
   ],
   "source": [
    "gu_list = new_seoul['지역(시군구)'].unique()\n",
    "# for i in gu_list:\n"
   ]
  },
  {
   "cell_type": "code",
   "execution_count": 6,
   "metadata": {},
   "outputs": [
    {
     "output_type": "execute_result",
     "data": {
      "text/plain": "현대백화점압구정본점         31\nSRT수서역             31\n코엑스                31\n강남세브란스병원           31\n은마아파트              31\n선릉역                31\n강남구청               31\n현대백화점무역센터점         31\n강남역                31\n래미안블레스티지아파트        31\n롯데백화점강남점           31\n역삼역                31\n신현대아파트             31\n삼성서울병원             31\n도곡렉슬아파트            31\n삼성타워팰리스1차          31\n갤러리아백화점명품관EAST     31\n논현초등학교             30\n갤러리아백화점명품관WEST     30\n삼성타워팰리스2차          29\n강남구청역              29\n신논현역               28\n선경아파트              27\n리베라호텔서울            24\n강남자동차매매단지          19\n차병원                19\n강남파이낸스센터           18\n프리마호텔              18\n강남한양수자인아파트         15\n포스코센터빌딩            15\n아쿠아리움코엑스몰점         11\n디에이치아너힐즈아파트         9\n탄천공영주차장             8\n코엑스인터컨티넨탈호텔서울       7\n라마다호텔서울강남           6\n한보미도맨션1차아파트         6\n드레스가든               6\n더채플앳청담              5\n학동역                 5\n그랜드힐컨벤션             4\n래미안강남힐즈아파트          4\n중앙해장                3\n논현역                 3\n노블발렌티대치점            3\n역삼대우푸르지오아파트         2\n스칼라티움강남점            2\n컨벤션헤리츠              2\n상록아트홀               2\n엠플러스웨딩홀             2\n삼정호텔                2\n신라스테이역삼             2\n이마트역삼점              2\n더라움                 1\n더라빌                 1\n개포주공1단지아파트          1\n충현교회                1\n도로교통공단강남운전면허시험장     1\n더베일리하우스논현점          1\nName: 검색지명, dtype: int64"
     },
     "metadata": {},
     "execution_count": 6
    }
   ],
   "source": [
    "cnt_seoul = seoul['검색지명'].value_counts()\n",
    "cnt_seoul"
   ]
  },
  {
   "cell_type": "raw",
   "metadata": {},
   "source": [
    "cnt_seoul = seoul['검색지명'].value_counts()\n",
    "cnt_seoul"
   ]
  },
  {
   "cell_type": "code",
   "execution_count": 7,
   "metadata": {},
   "outputs": [
    {
     "output_type": "execute_result",
     "data": {
      "text/plain": "              name  count\n0       현대백화점압구정본점     31\n1           SRT수서역     31\n2              코엑스     31\n3         강남세브란스병원     31\n4            은마아파트     31\n5              선릉역     31\n6             강남구청     31\n7       현대백화점무역센터점     31\n8              강남역     31\n9      래미안블레스티지아파트     31\n10        롯데백화점강남점     31\n11             역삼역     31\n12          신현대아파트     31\n13          삼성서울병원     31\n14         도곡렉슬아파트     31\n15       삼성타워팰리스1차     31\n16  갤러리아백화점명품관EAST     31\n17          논현초등학교     30\n18  갤러리아백화점명품관WEST     30\n19       삼성타워팰리스2차     29\n20           강남구청역     29\n21            신논현역     28\n22           선경아파트     27\n23         리베라호텔서울     24\n24       강남자동차매매단지     19\n25             차병원     19\n26        강남파이낸스센터     18\n27           프리마호텔     18\n28      강남한양수자인아파트     15\n29         포스코센터빌딩     15\n30      아쿠아리움코엑스몰점     11\n31     디에이치아너힐즈아파트      9\n32         탄천공영주차장      8\n33   코엑스인터컨티넨탈호텔서울      7\n34       라마다호텔서울강남      6\n35     한보미도맨션1차아파트      6\n36           드레스가든      6\n37          더채플앳청담      5\n38             학동역      5\n39         그랜드힐컨벤션      4\n40      래미안강남힐즈아파트      4\n41            중앙해장      3\n42             논현역      3\n43        노블발렌티대치점      3\n44     역삼대우푸르지오아파트      2\n45        스칼라티움강남점      2\n46          컨벤션헤리츠      2\n47           상록아트홀      2\n48         엠플러스웨딩홀      2\n49            삼정호텔      2",
      "text/html": "<div>\n<style scoped>\n    .dataframe tbody tr th:only-of-type {\n        vertical-align: middle;\n    }\n\n    .dataframe tbody tr th {\n        vertical-align: top;\n    }\n\n    .dataframe thead th {\n        text-align: right;\n    }\n</style>\n<table border=\"1\" class=\"dataframe\">\n  <thead>\n    <tr style=\"text-align: right;\">\n      <th></th>\n      <th>name</th>\n      <th>count</th>\n    </tr>\n  </thead>\n  <tbody>\n    <tr>\n      <th>0</th>\n      <td>현대백화점압구정본점</td>\n      <td>31</td>\n    </tr>\n    <tr>\n      <th>1</th>\n      <td>SRT수서역</td>\n      <td>31</td>\n    </tr>\n    <tr>\n      <th>2</th>\n      <td>코엑스</td>\n      <td>31</td>\n    </tr>\n    <tr>\n      <th>3</th>\n      <td>강남세브란스병원</td>\n      <td>31</td>\n    </tr>\n    <tr>\n      <th>4</th>\n      <td>은마아파트</td>\n      <td>31</td>\n    </tr>\n    <tr>\n      <th>5</th>\n      <td>선릉역</td>\n      <td>31</td>\n    </tr>\n    <tr>\n      <th>6</th>\n      <td>강남구청</td>\n      <td>31</td>\n    </tr>\n    <tr>\n      <th>7</th>\n      <td>현대백화점무역센터점</td>\n      <td>31</td>\n    </tr>\n    <tr>\n      <th>8</th>\n      <td>강남역</td>\n      <td>31</td>\n    </tr>\n    <tr>\n      <th>9</th>\n      <td>래미안블레스티지아파트</td>\n      <td>31</td>\n    </tr>\n    <tr>\n      <th>10</th>\n      <td>롯데백화점강남점</td>\n      <td>31</td>\n    </tr>\n    <tr>\n      <th>11</th>\n      <td>역삼역</td>\n      <td>31</td>\n    </tr>\n    <tr>\n      <th>12</th>\n      <td>신현대아파트</td>\n      <td>31</td>\n    </tr>\n    <tr>\n      <th>13</th>\n      <td>삼성서울병원</td>\n      <td>31</td>\n    </tr>\n    <tr>\n      <th>14</th>\n      <td>도곡렉슬아파트</td>\n      <td>31</td>\n    </tr>\n    <tr>\n      <th>15</th>\n      <td>삼성타워팰리스1차</td>\n      <td>31</td>\n    </tr>\n    <tr>\n      <th>16</th>\n      <td>갤러리아백화점명품관EAST</td>\n      <td>31</td>\n    </tr>\n    <tr>\n      <th>17</th>\n      <td>논현초등학교</td>\n      <td>30</td>\n    </tr>\n    <tr>\n      <th>18</th>\n      <td>갤러리아백화점명품관WEST</td>\n      <td>30</td>\n    </tr>\n    <tr>\n      <th>19</th>\n      <td>삼성타워팰리스2차</td>\n      <td>29</td>\n    </tr>\n    <tr>\n      <th>20</th>\n      <td>강남구청역</td>\n      <td>29</td>\n    </tr>\n    <tr>\n      <th>21</th>\n      <td>신논현역</td>\n      <td>28</td>\n    </tr>\n    <tr>\n      <th>22</th>\n      <td>선경아파트</td>\n      <td>27</td>\n    </tr>\n    <tr>\n      <th>23</th>\n      <td>리베라호텔서울</td>\n      <td>24</td>\n    </tr>\n    <tr>\n      <th>24</th>\n      <td>강남자동차매매단지</td>\n      <td>19</td>\n    </tr>\n    <tr>\n      <th>25</th>\n      <td>차병원</td>\n      <td>19</td>\n    </tr>\n    <tr>\n      <th>26</th>\n      <td>강남파이낸스센터</td>\n      <td>18</td>\n    </tr>\n    <tr>\n      <th>27</th>\n      <td>프리마호텔</td>\n      <td>18</td>\n    </tr>\n    <tr>\n      <th>28</th>\n      <td>강남한양수자인아파트</td>\n      <td>15</td>\n    </tr>\n    <tr>\n      <th>29</th>\n      <td>포스코센터빌딩</td>\n      <td>15</td>\n    </tr>\n    <tr>\n      <th>30</th>\n      <td>아쿠아리움코엑스몰점</td>\n      <td>11</td>\n    </tr>\n    <tr>\n      <th>31</th>\n      <td>디에이치아너힐즈아파트</td>\n      <td>9</td>\n    </tr>\n    <tr>\n      <th>32</th>\n      <td>탄천공영주차장</td>\n      <td>8</td>\n    </tr>\n    <tr>\n      <th>33</th>\n      <td>코엑스인터컨티넨탈호텔서울</td>\n      <td>7</td>\n    </tr>\n    <tr>\n      <th>34</th>\n      <td>라마다호텔서울강남</td>\n      <td>6</td>\n    </tr>\n    <tr>\n      <th>35</th>\n      <td>한보미도맨션1차아파트</td>\n      <td>6</td>\n    </tr>\n    <tr>\n      <th>36</th>\n      <td>드레스가든</td>\n      <td>6</td>\n    </tr>\n    <tr>\n      <th>37</th>\n      <td>더채플앳청담</td>\n      <td>5</td>\n    </tr>\n    <tr>\n      <th>38</th>\n      <td>학동역</td>\n      <td>5</td>\n    </tr>\n    <tr>\n      <th>39</th>\n      <td>그랜드힐컨벤션</td>\n      <td>4</td>\n    </tr>\n    <tr>\n      <th>40</th>\n      <td>래미안강남힐즈아파트</td>\n      <td>4</td>\n    </tr>\n    <tr>\n      <th>41</th>\n      <td>중앙해장</td>\n      <td>3</td>\n    </tr>\n    <tr>\n      <th>42</th>\n      <td>논현역</td>\n      <td>3</td>\n    </tr>\n    <tr>\n      <th>43</th>\n      <td>노블발렌티대치점</td>\n      <td>3</td>\n    </tr>\n    <tr>\n      <th>44</th>\n      <td>역삼대우푸르지오아파트</td>\n      <td>2</td>\n    </tr>\n    <tr>\n      <th>45</th>\n      <td>스칼라티움강남점</td>\n      <td>2</td>\n    </tr>\n    <tr>\n      <th>46</th>\n      <td>컨벤션헤리츠</td>\n      <td>2</td>\n    </tr>\n    <tr>\n      <th>47</th>\n      <td>상록아트홀</td>\n      <td>2</td>\n    </tr>\n    <tr>\n      <th>48</th>\n      <td>엠플러스웨딩홀</td>\n      <td>2</td>\n    </tr>\n    <tr>\n      <th>49</th>\n      <td>삼정호텔</td>\n      <td>2</td>\n    </tr>\n  </tbody>\n</table>\n</div>"
     },
     "metadata": {},
     "execution_count": 7
    }
   ],
   "source": [
    "type(cnt_seoul)\n",
    "data = {'name':[], 'count':[]}\n",
    "for idx, i in enumerate(cnt_seoul.index):\n",
    "    if cnt_seoul[idx]<=1: break\n",
    "    data['name'].append(i)\n",
    "    data['count'].append(cnt_seoul[idx])\n",
    "data\n",
    "cnt_df = pd.DataFrame(data)\n",
    "cnt_df.head(50)\n",
    "# 음 한달동안 서울에서 20회 이하는 삭제했을때 "
   ]
  },
  {
   "cell_type": "markdown",
   "metadata": {},
   "source": [
    "# 카카오 api\n",
    "- 카카오 api 키워드로 장소검색을 사용하면 각각의 네비게이션 목적지들의 좌표값이 나온다.\n",
    "- 지하철 역일경우에는 인구 분포가 안나오는데 그외에는 나온다."
   ]
  },
  {
   "cell_type": "code",
   "execution_count": 8,
   "metadata": {},
   "outputs": [
    {
     "output_type": "execute_result",
     "data": {
      "text/plain": "{'documents': [{'address_name': '서울 노원구 월계동 447-1',\n   'category_group_code': 'SC4',\n   'category_group_name': '학교',\n   'category_name': '교육,학문 > 학교 > 대학교',\n   'distance': '',\n   'id': '10148561',\n   'phone': '02-940-5114',\n   'place_name': '광운대학교',\n   'place_url': 'http://place.map.kakao.com/10148561',\n   'road_address_name': '서울 노원구 광운로 20',\n   'x': '127.058270608867',\n   'y': '37.6192404638865'},\n  {'address_name': '서울 노원구 월계동 466',\n   'category_group_code': '',\n   'category_group_name': '',\n   'category_name': '교육,학문 > 학교부속시설',\n   'distance': '',\n   'id': '17564275',\n   'phone': '02-940-8614',\n   'place_name': '광운대학교 동해문화예술관',\n   'place_url': 'http://place.map.kakao.com/17564275',\n   'road_address_name': '서울 노원구 광운로 21',\n   'x': '127.057577863828',\n   'y': '37.6198462676801'},\n  {'address_name': '서울 노원구 월계동 466',\n   'category_group_code': 'CT1',\n   'category_group_name': '문화시설',\n   'category_name': '문화,예술 > 문화시설 > 공연장,연극극장',\n   'distance': '',\n   'id': '1817730210',\n   'phone': '',\n   'place_name': '광운대학교 동해문화예술관 대극장',\n   'place_url': 'http://place.map.kakao.com/1817730210',\n   'road_address_name': '서울 노원구 광운로 21',\n   'x': '127.05759144243',\n   'y': '37.6198282413004'},\n  {'address_name': '서울 노원구 월계동 465-41',\n   'category_group_code': '',\n   'category_group_name': '',\n   'category_name': '교육,학문 > 학교부속시설',\n   'distance': '',\n   'id': '17566581',\n   'phone': '',\n   'place_name': '광운대학교 한울관',\n   'place_url': 'http://place.map.kakao.com/17566581',\n   'road_address_name': '서울 노원구 광운로 27-38',\n   'x': '127.057057429366',\n   'y': '37.6206465974719'},\n  {'address_name': '서울 노원구 월계동 500-40',\n   'category_group_code': '',\n   'category_group_name': '',\n   'category_name': '부동산 > 주거시설 > 기숙사,기숙시설',\n   'distance': '',\n   'id': '614748387',\n   'phone': '02-940-5282',\n   'place_name': '광운대학교 공공기숙사빛솔재',\n   'place_url': 'http://place.map.kakao.com/614748387',\n   'road_address_name': '서울 노원구 광운로 21',\n   'x': '127.05633764726',\n   'y': '37.6214794557542'},\n  {'address_name': '서울 노원구 월계동 466',\n   'category_group_code': '',\n   'category_group_name': '',\n   'category_name': '스포츠,레저 > 스케이트 > 스케이트장',\n   'distance': '',\n   'id': '10156264',\n   'phone': '02-909-3114',\n   'place_name': '광운대학교 아이스링크',\n   'place_url': 'http://place.map.kakao.com/10156264',\n   'road_address_name': '서울 노원구 광운로 21',\n   'x': '127.057193096323',\n   'y': '37.6203077604657'},\n  {'address_name': '서울 노원구 월계동 447-1',\n   'category_group_code': '',\n   'category_group_name': '',\n   'category_name': '교육,학문 > 학교부속시설',\n   'distance': '',\n   'id': '823736351',\n   'phone': '',\n   'place_name': '광운대학교 80주년기념관',\n   'place_url': 'http://place.map.kakao.com/823736351',\n   'road_address_name': '서울 노원구 광운로 20',\n   'x': '127.0587072414654',\n   'y': '37.619931305040545'},\n  {'address_name': '서울 노원구 월계동 447-1',\n   'category_group_code': '',\n   'category_group_name': '',\n   'category_name': '사회,공공기관 > 행정기관 > 과학기술정보통신부 > 우체국 > 우편취급국',\n   'distance': '',\n   'id': '18132873',\n   'phone': '',\n   'place_name': '광운대학교우편취급국',\n   'place_url': 'http://place.map.kakao.com/18132873',\n   'road_address_name': '서울 노원구 광운로 20',\n   'x': '127.05896020643866',\n   'y': '37.62040059346702'},\n  {'address_name': '서울 노원구 월계동 447-1',\n   'category_group_code': '',\n   'category_group_name': '',\n   'category_name': '교육,학문 > 학교부속시설',\n   'distance': '',\n   'id': '17561911',\n   'phone': '',\n   'place_name': '광운대학교 비마관',\n   'place_url': 'http://place.map.kakao.com/17561911',\n   'road_address_name': '서울 노원구 광운로 20',\n   'x': '127.059933686195',\n   'y': '37.6195820062722'},\n  {'address_name': '서울 노원구 월계동 383-4',\n   'category_group_code': 'CE7',\n   'category_group_name': '카페',\n   'category_name': '음식점 > 카페',\n   'distance': '',\n   'id': '22577995',\n   'phone': '02-941-3890',\n   'place_name': '와플대학 광운대캠퍼스',\n   'place_url': 'http://place.map.kakao.com/22577995',\n   'road_address_name': '서울 노원구 광운로 64',\n   'x': '127.06018097652368',\n   'y': '37.62283985104657'},\n  {'address_name': '서울 노원구 월계동 447-1',\n   'category_group_code': '',\n   'category_group_name': '',\n   'category_name': '교육,학문 > 학교부속시설',\n   'distance': '',\n   'id': '715015774',\n   'phone': '',\n   'place_name': '광운대학교 새빛관',\n   'place_url': 'http://place.map.kakao.com/715015774',\n   'road_address_name': '서울 노원구 광운로 20',\n   'x': '127.060889862124',\n   'y': '37.6197941498518'},\n  {'address_name': '서울 노원구 월계동 505-2',\n   'category_group_code': '',\n   'category_group_name': '',\n   'category_name': '교육,학문 > 학교부속시설',\n   'distance': '',\n   'id': '12721052',\n   'phone': '',\n   'place_name': '광운대학교 누리관',\n   'place_url': 'http://place.map.kakao.com/12721052',\n   'road_address_name': '서울 노원구 광운로1길 60',\n   'x': '127.054995691942',\n   'y': '37.6203952998464'},\n  {'address_name': '서울 노원구 월계동 447-1',\n   'category_group_code': '',\n   'category_group_name': '',\n   'category_name': '교육,학문 > 학교부속시설',\n   'distance': '',\n   'id': '11032521',\n   'phone': '02-940-8226',\n   'place_name': '광운대학교 정보과학교육원',\n   'place_url': 'http://place.map.kakao.com/11032521',\n   'road_address_name': '서울 노원구 광운로 20',\n   'x': '127.058270628556',\n   'y': '37.6192656915341'},\n  {'address_name': '서울 노원구 월계동 447-1',\n   'category_group_code': '',\n   'category_group_name': '',\n   'category_name': '교육,학문 > 학습시설 > 도서관',\n   'distance': '',\n   'id': '17555966',\n   'phone': '02-940-5268',\n   'place_name': '광운대학교 중앙도서관',\n   'place_url': 'http://place.map.kakao.com/17555966',\n   'road_address_name': '서울 노원구 광운로 20',\n   'x': '127.058805946885',\n   'y': '37.6201339781116'},\n  {'address_name': '서울 노원구 월계동 466',\n   'category_group_code': 'PK6',\n   'category_group_name': '주차장',\n   'category_name': '교통,수송 > 교통시설 > 주차장',\n   'distance': '',\n   'id': '964798968',\n   'phone': '',\n   'place_name': '광운대학교 동해문화예술관 한울관 주차장',\n   'place_url': 'http://place.map.kakao.com/964798968',\n   'road_address_name': '서울 노원구 광운로 21',\n   'x': '127.057065359787',\n   'y': '37.6206483956122'}],\n 'meta': {'is_end': False,\n  'pageable_count': 45,\n  'same_name': {'keyword': '광운대학교', 'region': [], 'selected_region': ''},\n  'total_count': 223}}"
     },
     "metadata": {},
     "execution_count": 8
    }
   ],
   "source": [
    "# cnt_df.plot(kind='bar')\n",
    "import requests\n",
    "from decouple import config\n",
    "ka_key = config('KAKAO_RESTAPI')\n",
    "kakao_url = 'https://dapi.kakao.com/v2/local/search/keyword.json?query=광운대학교'\n",
    "h = {\n",
    "    'Authorization': 'KakaoAK '+ka_key\n",
    "}\n",
    "res = requests.get(kakao_url, headers=h)\n",
    "res.json()"
   ]
  },
  {
   "cell_type": "markdown",
   "metadata": {},
   "source": [
    "# 전체지역"
   ]
  },
  {
   "cell_type": "code",
   "execution_count": 21,
   "metadata": {},
   "outputs": [
    {
     "output_type": "execute_result",
     "data": {
      "text/plain": "솔내음          95\n수림정          93\n목월빵집         93\n하우스베이커리      93\n이성당          93\n             ..\n영덕읍행정복지센터     1\n재능중학교         1\n한일합섬의령공장      1\n서영여자고등학교      1\n구미시보건소        1\nName: 검색지명, Length: 16307, dtype: int64"
     },
     "metadata": {},
     "execution_count": 21
    }
   ],
   "source": [
    "cnt_tmap = tmap['검색지명'].value_counts()\n",
    "cnt_tmap"
   ]
  }
 ],
 "metadata": {
  "kernelspec": {
   "display_name": "Python 3.8.4 64-bit",
   "language": "python",
   "name": "python_defaultSpec_1595763409273"
  },
  "language_info": {
   "codemirror_mode": {
    "name": "ipython",
    "version": 3
   },
   "file_extension": ".py",
   "mimetype": "text/x-python",
   "name": "python",
   "nbconvert_exporter": "python",
   "pygments_lexer": "ipython3",
   "version": "3.8.4-final"
  }
 },
 "nbformat": 4,
 "nbformat_minor": 4
}
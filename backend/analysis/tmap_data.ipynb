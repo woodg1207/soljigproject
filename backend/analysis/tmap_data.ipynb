{
 "cells": [
  {
   "cell_type": "code",
   "execution_count": 41,
   "metadata": {},
   "outputs": [],
   "source": [
    "import pandas as pd\n",
    "import json"
   ]
  },
  {
   "cell_type": "code",
   "execution_count": 3,
   "metadata": {},
   "outputs": [],
   "source": [
    "tmap = pd.read_csv('../data/Tmap_2005.csv')"
   ]
  },
  {
   "cell_type": "code",
   "execution_count": 4,
   "metadata": {
    "tags": []
   },
   "outputs": [
    {
     "output_type": "execute_result",
     "data": {
      "text/plain": "(23250, 8)"
     },
     "metadata": {},
     "execution_count": 4
    }
   ],
   "source": [
    "c1 = tmap['지역(시도)'] == '서울'\n",
    "select_list = ['공공기관', '의료시설', '연구기관', '업종별기업', '행정기관', '종교', '가정의례']\n",
    "# c2 = tmap['지역(시군구)'] == '강남구'\n",
    "# c2 = tmap['일자']==20200510\n",
    "seoul = tmap.loc[c1,:]\n",
    "seoul.shape"
   ]
  },
  {
   "cell_type": "code",
   "execution_count": 5,
   "metadata": {},
   "outputs": [
    {
     "output_type": "execute_result",
     "data": {
      "text/plain": "array(['아파트브랜드', '지하철역', '아파트단지', '백화점', '아파트건설사', '공원', '할인점', '주상복합',\n       '농수축산물시장', '대학교', '쇼핑센터', '테마파크', '주요빌딩', '일반상가', '산업시설기타',\n       '고속도로 IC', '오피스텔', '스케이트장', '기차역', '전망대', '주차장', '박물관/기념관', '호텔',\n       '전자제품양판점', '도서관', '극장', '커피전문점', '고등학교', '종합시장', '서적브랜드', '전문상가',\n       '한식', '미술관', '드라이브코스', '문화유적지', '고궁', '버스터미널', '초등학교', '전시장',\n       '수족관', '부페', '공항', '농수축산물점', '교차로', '학교내시설물', '유원지', '재래시장', '방송사',\n       '운동장/체육관', '슈퍼마켓', '공연장', '섬', '분식', '기념비', '중학교', '아파트형공장',\n       '종합스포츠센타', '골프장', '대한상공회의소', '은행', '주요건물기타', '주유소', '자동차영업소',\n       '중고차매매', '대교/철교', '사회복지시설', '화랑/전시관', '삼성', '센터', '능묘', '회관',\n       '도시고속화도로IC', '축제', '운전면허시험장', 'LG유플러스', '호수', '한샘가구', '관광안내소',\n       '장난감', '동식물원', '패밀리레스토랑', '놀이시설'], dtype=object)"
     },
     "metadata": {},
     "execution_count": 5
    }
   ],
   "source": [
    "l = []\n",
    "for i in select_list:\n",
    "    select_condition2 = tmap['검색지유형2']==i\n",
    "    seoul_index = seoul.loc[select_condition2,:].index\n",
    "    # l.append(seoul_index)\n",
    "    l.extend(seoul_index)\n",
    "new_seoul = seoul.drop(l)\n",
    "new_seoul['검색지유형3'].unique()\n",
    "# seoul['검색지유형2'].unique()\n",
    "# seoul['검색지유형3'].unique()"
   ]
  },
  {
   "cell_type": "code",
   "execution_count": 6,
   "metadata": {
    "tags": []
   },
   "outputs": [
    {
     "output_type": "execute_result",
     "data": {
      "text/plain": "             검색지명  point    gu\n0   고덕래미안힐스테이트아파트    930   강동구\n1             천호역    904   강동구\n2       고덕그라시움아파트    868   강동구\n3    강동롯데캐슬퍼스트아파트    795   강동구\n4        현대백화점천호점    770   강동구\n..            ...    ...   ...\n26   오일뱅크가재울뉴타운셀프     55  서대문구\n27         연세동문회관     49  서대문구\n28        연희대우아파트     43  서대문구\n29     돈의문센트레빌아파트     41  서대문구\n30  E편한세상신촌1단지아파트     21  서대문구\n\n[793 rows x 3 columns]",
      "text/html": "<div>\n<style scoped>\n    .dataframe tbody tr th:only-of-type {\n        vertical-align: middle;\n    }\n\n    .dataframe tbody tr th {\n        vertical-align: top;\n    }\n\n    .dataframe thead th {\n        text-align: right;\n    }\n</style>\n<table border=\"1\" class=\"dataframe\">\n  <thead>\n    <tr style=\"text-align: right;\">\n      <th></th>\n      <th>검색지명</th>\n      <th>point</th>\n      <th>gu</th>\n    </tr>\n  </thead>\n  <tbody>\n    <tr>\n      <th>0</th>\n      <td>고덕래미안힐스테이트아파트</td>\n      <td>930</td>\n      <td>강동구</td>\n    </tr>\n    <tr>\n      <th>1</th>\n      <td>천호역</td>\n      <td>904</td>\n      <td>강동구</td>\n    </tr>\n    <tr>\n      <th>2</th>\n      <td>고덕그라시움아파트</td>\n      <td>868</td>\n      <td>강동구</td>\n    </tr>\n    <tr>\n      <th>3</th>\n      <td>강동롯데캐슬퍼스트아파트</td>\n      <td>795</td>\n      <td>강동구</td>\n    </tr>\n    <tr>\n      <th>4</th>\n      <td>현대백화점천호점</td>\n      <td>770</td>\n      <td>강동구</td>\n    </tr>\n    <tr>\n      <th>...</th>\n      <td>...</td>\n      <td>...</td>\n      <td>...</td>\n    </tr>\n    <tr>\n      <th>26</th>\n      <td>오일뱅크가재울뉴타운셀프</td>\n      <td>55</td>\n      <td>서대문구</td>\n    </tr>\n    <tr>\n      <th>27</th>\n      <td>연세동문회관</td>\n      <td>49</td>\n      <td>서대문구</td>\n    </tr>\n    <tr>\n      <th>28</th>\n      <td>연희대우아파트</td>\n      <td>43</td>\n      <td>서대문구</td>\n    </tr>\n    <tr>\n      <th>29</th>\n      <td>돈의문센트레빌아파트</td>\n      <td>41</td>\n      <td>서대문구</td>\n    </tr>\n    <tr>\n      <th>30</th>\n      <td>E편한세상신촌1단지아파트</td>\n      <td>21</td>\n      <td>서대문구</td>\n    </tr>\n  </tbody>\n</table>\n<p>793 rows × 3 columns</p>\n</div>"
     },
     "metadata": {},
     "execution_count": 6
    }
   ],
   "source": [
    "# 서울시 구\n",
    "gu_list = new_seoul['지역(시군구)'].unique()\n",
    "# 점수주기\n",
    "new_seoul['point'] = 31-new_seoul['검색지랭킹(시군구내)']\n",
    "# 지역별 점수 합산\n",
    "result = pd.DataFrame()\n",
    "for i in gu_list:\n",
    "    con_gu = new_seoul['지역(시군구)'] == i\n",
    "    # print(i)\n",
    "    gu_seoul = new_seoul.loc[con_gu, :]\n",
    "    s = gu_seoul.groupby(by=['검색지명']).sum()\n",
    "    s = s.loc[s['point']>20,:]\n",
    "    ss = s.sort_values(by='point', ascending=False).reset_index()\n",
    "    ss['gu'] = i\n",
    "    result=result.append(ss[['검색지명', 'point', 'gu']])\n",
    "result\n"
   ]
  },
  {
   "cell_type": "raw",
   "metadata": {},
   "source": [
    "cnt_seoul = seoul['검색지명'].value_counts()\n",
    "cnt_seoul"
   ]
  },
  {
   "cell_type": "markdown",
   "metadata": {},
   "source": [
    "## 카카오 api 연습\n",
    "- 카카오 api 키워드로 장소검색을 사용하면 각각의 네비게이션 목적지들의 좌표값이 나온다.\n",
    "- 지하철 역일경우에는 인구 분포가 안나오는데 그외에는 나온다."
   ]
  },
  {
   "cell_type": "code",
   "execution_count": 7,
   "metadata": {},
   "outputs": [],
   "source": [
    "name = result.iloc[0,0]"
   ]
  },
  {
   "cell_type": "code",
   "execution_count": 8,
   "metadata": {
    "tags": []
   },
   "outputs": [],
   "source": [
    "# cnt_df.plot(kind='bar')\n",
    "import requests\n",
    "from decouple import config\n",
    "ka_key = config('KAKAO_RESTAPI')\n",
    "kakao_url = 'https://dapi.kakao.com/v2/local/search/keyword.json?query='+name\n",
    "h = {\n",
    "    'Authorization': 'KakaoAK '+ka_key\n",
    "}\n",
    "res = requests.get(kakao_url, headers=h)\n",
    "location_data = res.json()['documents']\n",
    "# 구, 동 따로 구별해서 저장해주기\n",
    "address = location_data[0]['address_name']\n",
    "place_url = location_data[0]['place_url']\n",
    "place_x = location_data[0]['x']\n",
    "place_y = location_data[0]['y']\n",
    "# print(place_x, place_y, address)\n",
    "# location_data"
   ]
  },
  {
   "cell_type": "code",
   "execution_count": 27,
   "metadata": {},
   "outputs": [
    {
     "output_type": "execute_result",
     "data": {
      "text/plain": "{'documents': [],\n 'meta': {'is_end': True,\n  'pageable_count': 0,\n  'same_name': None,\n  'total_count': 0}}"
     },
     "metadata": {},
     "execution_count": 27
    }
   ],
   "source": [
    "kakao_category_url = f'https://dapi.kakao.com/v2/local/search/category.json?category_group_code=CT1&x={place_x}&y={place_y}&radius=300&page=&sort=distance'\n",
    "cate_res = requests.get(kakao_category_url, headers=h)\n",
    "cate_res.json()"
   ]
  },
  {
   "cell_type": "markdown",
   "metadata": {},
   "source": [
    "# 만들기"
   ]
  },
  {
   "cell_type": "code",
   "execution_count": 38,
   "metadata": {},
   "outputs": [
    {
     "output_type": "execute_result",
     "data": {
      "text/plain": "array(['강동구', '성동구', '송파구', '양천구', '영등포구', '용산구', '종로구', '중랑구', '강남구',\n       '강서구', '관악구', '광진구', '동작구', '마포구', '서초구', '은평구', '강북구', '구로구',\n       '노원구', '도봉구', '동대문구', '성북구', '중구', '금천구', '서대문구'], dtype=object)"
     },
     "metadata": {},
     "execution_count": 38
    }
   ],
   "source": [
    "# 서울에 있는 내비게이션 목적지\n",
    "result\n",
    "gu_list = result['gu'].unique()\n",
    "gu_list"
   ]
  },
  {
   "cell_type": "markdown",
   "metadata": {},
   "source": [
    "# 내비 목적지로 list만드는 부분"
   ]
  },
  {
   "cell_type": "code",
   "execution_count": 48,
   "metadata": {
    "tags": []
   },
   "outputs": [
    {
     "output_type": "stream",
     "name": "stdout",
     "text": "{'documents': [], 'meta': {'is_end': True, 'pageable_count': 0, 'same_name': {'keyword': '래미안옥수리버젠1단지아파트', 'region': [], 'selected_region': ''}, 'total_count': 0}} 래미안옥수리버젠1단지아파트\n{'documents': [], 'meta': {'is_end': True, 'pageable_count': 0, 'same_name': {'keyword': 'e편한세상옥수파크힐스1단지아파트', 'region': [], 'selected_region': ''}, 'total_count': 0}} E편한세상옥수파크힐스1단지아파트\n{'documents': [], 'meta': {'is_end': True, 'pageable_count': 0, 'sanme_name': None, 'total_count': 0}} 용산파크타워1단지아파트\n{'documents': [], 'meta': {'is_end': True, 'pageable_count': 0, 'same_name': {'keyword': '상봉종합버스터미널', 'region': [], 'selected_region': ''}, 'total_count': 0}} 상봉종합버스터미널\n{'documents': [], 'meta': {'is_end': True, 'pageable_count': 0, 'same_name': {'keyword': '동성12차아파트', 'region': [], 'selected_region': ''}, 'total_count': 0}} 동성12차아파트\n{'documents': [], 'meta': {'is_end': True, 'pageable_count': 0, 'same_name': {'keyword': 'sk주유소행운셀프', 'region': [], 'selected_region': ''}, 'total_count': 0}} SK주유소행운셀프\n{'documents': [], 'meta': {'is_end': True, 'pageable_count': 0, 'same_name': {'keyword': '광장현대파크빌10단지아파트', 'region': [], 'selected_region': ''}, 'total_count': 0}} 광장현대파크빌10단지아파트\n{'documents': [], 'meta': {'is_end': True, 'pageable_count': 0, 'same_name': {'keyword': 'mbc본사신사옥', 'region': [], 'selected_region': ''}, 'total_count': 0}} MBC본사신사옥\n{'documents': [], 'meta': {'is_end': True, 'pageable_count': 0, 'same_name': {'keyword': '그랑자이1단지아파트', 'region': [], 'selected_region': '서울 서대문구 신촌동'}, 'total_count': 0}} 신촌그랑자이1단지아파트\n{'documents': [], 'meta': {'is_end': True, 'pageable_count': 0, 'same_name': {'keyword': '서울고속버스터미널경부영동선', 'region': [], 'selected_region': ''}, 'total_count': 0}} 서울고속버스터미널경부영동선\n{'documents': [], 'meta': {'is_end': True, 'pageable_count': 0, 'same_name': {'keyword': '계센트럴시티터미널호남선', 'region': [], 'selected_region': '경북 안동시 신세동'}, 'total_count': 0}} 신세계센트럴시티터미널호남선\n{'documents': [], 'meta': {'is_end': True, 'pageable_count': 0, 'same_name': {'keyword': '강남고속버스터미널꽃상가', 'region': [], 'selected_region': ''}, 'total_count': 0}} 강남고속버스터미널꽃상가\n{'documents': [], 'meta': {'is_end': True, 'pageable_count': 0, 'same_name': {'keyword': '419기념탑', 'region': [], 'selected_region': ''}, 'total_count': 0}} 419기념탑\n{'documents': [], 'meta': {'is_end': True, 'pageable_count': 0, 'same_name': {'keyword': '기계공구상가단지ac블럭', 'region': [], 'selected_region': '서울 구로구'}, 'total_count': 0}} 구로기계공구상가단지AC블럭\n{'documents': [], 'meta': {'is_end': True, 'pageable_count': 0, 'same_name': {'keyword': '기계공구상가단지bd블럭', 'region': [], 'selected_region': '서울 구로구'}, 'total_count': 0}} 구로기계공구상가단지BD블럭\n{'documents': [], 'meta': {'is_end': True, 'pageable_count': 0, 'same_name': {'keyword': '쌍문한양234차아파트', 'region': [], 'selected_region': ''}, 'total_count': 0}} 쌍문한양234차아파트\n{'documents': [], 'meta': {'is_end': True, 'pageable_count': 0, 'same_name': {'keyword': '답십리래미안위브1단지아파트', 'region': [], 'selected_region': ''}, 'total_count': 0}} 답십리래미안위브1단지아파트\n{'documents': [], 'meta': {'is_end': True, 'pageable_count': 0, 'same_name': {'keyword': '뉴타운대림e편한세상4단지아파트', 'region': [], 'selected_region': '서울 성북구 길음동'}, 'total_count': 0}} 길음뉴타운대림E편한세상4단지아파트\n{'documents': [], 'meta': {'is_end': True, 'pageable_count': 0, 'same_name': {'keyword': '종암sk뷰1차아파트', 'region': [], 'selected_region': ''}, 'total_count': 0}} 종암SK뷰1차아파트\n{'documents': [], 'meta': {'is_end': True, 'pageable_count': 0, 'same_name': {'keyword': '롯데캐슬골드파크타워960', 'region': [], 'selected_region': ''}, 'total_count': 0}} 롯데캐슬골드파크타워960\n{'documents': [], 'meta': {'is_end': True, 'pageable_count': 0, 'same_name': {'keyword': '오일뱅크가재울뉴타운셀프', 'region': [], 'selected_region': ''}, 'total_count': 0}} 오일뱅크가재울뉴타운셀프\n"
    }
   ],
   "source": [
    "navi_list = []\n",
    "for idx, gu_name in enumerate(gu_list):\n",
    "    # if idx: break  ## test용으로\n",
    "    con = result['gu'] == gu_name\n",
    "    location = result.loc[con,:]\n",
    "    for i in location['검색지명']:\n",
    "        kakao_url = 'https://dapi.kakao.com/v2/local/search/keyword.json?query=' + i\n",
    "        res = requests.get(kakao_url, headers=h)\n",
    "        ### 내비게이션 목적지에서 많이 나오는 애들 항목임.\n",
    "        location_data = res.json()['documents']\n",
    "        try:\n",
    "\n",
    "            place_x = location_data[0]['x']\n",
    "            place_y = location_data[0]['y']\n",
    "            navi_list.append(\n",
    "                {\n",
    "                    'name':i,\n",
    "                    'x':place_x,\n",
    "                    'y':place_y,\n",
    "                }\n",
    "            )\n",
    "        except:\n",
    "            print(res.json(),i)            "
   ]
  },
  {
   "cell_type": "markdown",
   "metadata": {},
   "source": [
    "# 함수"
   ]
  },
  {
   "cell_type": "code",
   "execution_count": 39,
   "metadata": {},
   "outputs": [],
   "source": [
    "def getinfo(l):\n",
    "    re = []\n",
    "    for i in l:\n",
    "        a = i['address_name'].split()\n",
    "        g, d = a[1], a[2]\n",
    "        re.append(\n",
    "            {\n",
    "                'PlaceName':i['place_name'],\n",
    "                'Gu':g,\n",
    "                'Dong':d,\n",
    "                'PlaceCategory':i['category_group_code'],\n",
    "                'PlaceId': int(i['id']),\n",
    "                'PlaceX':i['x'],\n",
    "                'PlaceY':i['y'],\n",
    "            }\n",
    "        )\n",
    "    return re"
   ]
  },
  {
   "cell_type": "markdown",
   "metadata": {},
   "source": [
    "# 함수를 통해 내비목적지 반경 구하기\n",
    "- 주변 300m\n",
    "- 최대 45개 \n",
    "- 겹치는거 제외하는 거는 구현못함 (메모리 할당 때문에)"
   ]
  },
  {
   "cell_type": "code",
   "execution_count": 49,
   "metadata": {
    "tags": []
   },
   "outputs": [],
   "source": [
    "category = ['FD6','CE7','CT1','AT4','MT1'] # 음식점, 카페, 문화시설, 관광명소, 대형마트\n",
    "place_dict = {'Place':[]}\n",
    "for place in navi_list:\n",
    "    for cate in category:\n",
    "        kakao_category_url = f'https://dapi.kakao.com/v2/local/search/category.json?category_group_code={cate}&x={place[\"x\"]}&y={place[\"y\"]}&radius=300&page=1&sort=distance'\n",
    "        cate_res = requests.get(kakao_category_url, headers=h).json()\n",
    "        place_dict['Place'].extend(getinfo(cate_res['documents']))\n",
    "        if 30<cate_res['meta']['pageable_count']:\n",
    "            for p in range(2, 4):\n",
    "                kakao_category_url = f'https://dapi.kakao.com/v2/local/search/category.json?category_group_code={cate}&x={place[\"x\"]}&y={place[\"y\"]}&radius=300&page={p}&sort=distance'\n",
    "                cate_res = requests.get(kakao_category_url, headers=h).json()\n",
    "                place_dict['Place'].extend(getinfo(cate_res['documents']))\n",
    "        elif 15<cate_res['meta']['pageable_count']:\n",
    "            kakao_category_url = f'https://dapi.kakao.com/v2/local/search/category.json?category_group_code={cate}&x={place[\"x\"]}&y={place[\"y\"]}&radius=300&page=2&sort=distance'\n",
    "            cate_res = requests.get(kakao_category_url, headers=h).json()\n",
    "            place_dict['Place'].extend(getinfo(cate_res['documents']))\n",
    "\n"
   ]
  },
  {
   "cell_type": "code",
   "execution_count": 50,
   "metadata": {
    "tags": []
   },
   "outputs": [
    {
     "output_type": "execute_result",
     "data": {
      "text/plain": "46107"
     },
     "metadata": {},
     "execution_count": 50
    }
   ],
   "source": [
    "len(place_dict['Place'])"
   ]
  },
  {
   "cell_type": "code",
   "execution_count": 51,
   "metadata": {
    "tags": []
   },
   "outputs": [],
   "source": [
    "# json.dumps(place_dict, ensure_ascii=False, indent='\\t')\n",
    "with open('SeoulPlaceData.json','w',encoding='utf-8') as f:\n",
    "    json.dump(place_dict, f,ensure_ascii=False, indent='\\t')"
   ]
  }
 ],
 "metadata": {
  "kernelspec": {
   "display_name": "Python 3.8.4 64-bit",
   "language": "python",
   "name": "python_defaultSpec_1596026029964"
  },
  "language_info": {
   "codemirror_mode": {
    "name": "ipython",
    "version": 3
   },
   "file_extension": ".py",
   "mimetype": "text/x-python",
   "name": "python",
   "nbconvert_exporter": "python",
   "pygments_lexer": "ipython3",
   "version": "3.8.4-final"
  }
 },
 "nbformat": 4,
 "nbformat_minor": 4
}
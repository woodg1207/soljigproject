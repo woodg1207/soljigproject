{
 "cells": [
  {
   "cell_type": "code",
   "execution_count": 33,
   "metadata": {},
   "outputs": [],
   "source": [
    "%matplotlib inline\n",
    "import pandas as pd"
   ]
  },
  {
   "cell_type": "code",
   "execution_count": 34,
   "metadata": {},
   "outputs": [],
   "source": [
    "tmap = pd.read_csv('../data/Tmap_2005.csv')"
   ]
  },
  {
   "cell_type": "code",
   "execution_count": 35,
   "metadata": {},
   "outputs": [
    {
     "output_type": "execute_result",
     "data": {
      "text/plain": "              일자 지역(시도)  지역(시군구)             검색지명 검색지유형1  검색지유형2    검색지유형3  \\\n0       20200510     강원      삼척시            쏠비치삼척  여행/레저      숙박    콘도/리조트   \n1       20200510     강원      삼척시   삼척해양레일바이크용화정거장  여행/레저  레저/스포츠  레저/스포츠기타   \n2       20200510     강원      삼척시              장호항   교통편의    교통시설        항구   \n3       20200510     강원      삼척시   삼척해양레일바이크궁촌정거장  여행/레저  레저/스포츠  레저/스포츠기타   \n4       20200510     강원      삼척시            해신당공원  여행/레저    관광명소        공원   \n...          ...    ...      ...              ...    ...     ...       ...   \n232495  20200503     충북  청주시 청원구        초정약수세종스파텔  여행/레저    관광명소        온천   \n232496  20200503     충북  청주시 청원구       더휴센트럴파크아파트  건물/시설    주요건물     아파트단지   \n232497  20200503     충북  청주시 청원구       오창대성베르힐아파트  건물/시설    주요건물     아파트단지   \n232498  20200503     충북  청주시 청원구  오창모아미래도와이드시티아파트  건물/시설    주요건물     아파트단지   \n232499  20200503     충북  청주시 청원구            신화아파트  건물/시설    주요건물     아파트단지   \n\n        검색지랭킹(시군구내)  \n0                 1  \n1                 2  \n2                 3  \n3                 4  \n4                 5  \n...             ...  \n232495           26  \n232496           27  \n232497           28  \n232498           29  \n232499           30  \n\n[232500 rows x 8 columns]",
      "text/html": "<div>\n<style scoped>\n    .dataframe tbody tr th:only-of-type {\n        vertical-align: middle;\n    }\n\n    .dataframe tbody tr th {\n        vertical-align: top;\n    }\n\n    .dataframe thead th {\n        text-align: right;\n    }\n</style>\n<table border=\"1\" class=\"dataframe\">\n  <thead>\n    <tr style=\"text-align: right;\">\n      <th></th>\n      <th>일자</th>\n      <th>지역(시도)</th>\n      <th>지역(시군구)</th>\n      <th>검색지명</th>\n      <th>검색지유형1</th>\n      <th>검색지유형2</th>\n      <th>검색지유형3</th>\n      <th>검색지랭킹(시군구내)</th>\n    </tr>\n  </thead>\n  <tbody>\n    <tr>\n      <th>0</th>\n      <td>20200510</td>\n      <td>강원</td>\n      <td>삼척시</td>\n      <td>쏠비치삼척</td>\n      <td>여행/레저</td>\n      <td>숙박</td>\n      <td>콘도/리조트</td>\n      <td>1</td>\n    </tr>\n    <tr>\n      <th>1</th>\n      <td>20200510</td>\n      <td>강원</td>\n      <td>삼척시</td>\n      <td>삼척해양레일바이크용화정거장</td>\n      <td>여행/레저</td>\n      <td>레저/스포츠</td>\n      <td>레저/스포츠기타</td>\n      <td>2</td>\n    </tr>\n    <tr>\n      <th>2</th>\n      <td>20200510</td>\n      <td>강원</td>\n      <td>삼척시</td>\n      <td>장호항</td>\n      <td>교통편의</td>\n      <td>교통시설</td>\n      <td>항구</td>\n      <td>3</td>\n    </tr>\n    <tr>\n      <th>3</th>\n      <td>20200510</td>\n      <td>강원</td>\n      <td>삼척시</td>\n      <td>삼척해양레일바이크궁촌정거장</td>\n      <td>여행/레저</td>\n      <td>레저/스포츠</td>\n      <td>레저/스포츠기타</td>\n      <td>4</td>\n    </tr>\n    <tr>\n      <th>4</th>\n      <td>20200510</td>\n      <td>강원</td>\n      <td>삼척시</td>\n      <td>해신당공원</td>\n      <td>여행/레저</td>\n      <td>관광명소</td>\n      <td>공원</td>\n      <td>5</td>\n    </tr>\n    <tr>\n      <th>...</th>\n      <td>...</td>\n      <td>...</td>\n      <td>...</td>\n      <td>...</td>\n      <td>...</td>\n      <td>...</td>\n      <td>...</td>\n      <td>...</td>\n    </tr>\n    <tr>\n      <th>232495</th>\n      <td>20200503</td>\n      <td>충북</td>\n      <td>청주시 청원구</td>\n      <td>초정약수세종스파텔</td>\n      <td>여행/레저</td>\n      <td>관광명소</td>\n      <td>온천</td>\n      <td>26</td>\n    </tr>\n    <tr>\n      <th>232496</th>\n      <td>20200503</td>\n      <td>충북</td>\n      <td>청주시 청원구</td>\n      <td>더휴센트럴파크아파트</td>\n      <td>건물/시설</td>\n      <td>주요건물</td>\n      <td>아파트단지</td>\n      <td>27</td>\n    </tr>\n    <tr>\n      <th>232497</th>\n      <td>20200503</td>\n      <td>충북</td>\n      <td>청주시 청원구</td>\n      <td>오창대성베르힐아파트</td>\n      <td>건물/시설</td>\n      <td>주요건물</td>\n      <td>아파트단지</td>\n      <td>28</td>\n    </tr>\n    <tr>\n      <th>232498</th>\n      <td>20200503</td>\n      <td>충북</td>\n      <td>청주시 청원구</td>\n      <td>오창모아미래도와이드시티아파트</td>\n      <td>건물/시설</td>\n      <td>주요건물</td>\n      <td>아파트단지</td>\n      <td>29</td>\n    </tr>\n    <tr>\n      <th>232499</th>\n      <td>20200503</td>\n      <td>충북</td>\n      <td>청주시 청원구</td>\n      <td>신화아파트</td>\n      <td>건물/시설</td>\n      <td>주요건물</td>\n      <td>아파트단지</td>\n      <td>30</td>\n    </tr>\n  </tbody>\n</table>\n<p>232500 rows × 8 columns</p>\n</div>"
     },
     "metadata": {},
     "execution_count": 35
    }
   ],
   "source": [
    "tmap"
   ]
  },
  {
   "cell_type": "code",
   "execution_count": 36,
   "metadata": {
    "tags": []
   },
   "outputs": [
    {
     "output_type": "stream",
     "name": "stdout",
     "text": "<class 'pandas.core.frame.DataFrame'>\nRangeIndex: 232500 entries, 0 to 232499\nData columns (total 8 columns):\n #   Column       Non-Null Count   Dtype \n---  ------       --------------   ----- \n 0   일자           232500 non-null  int64 \n 1   지역(시도)       232500 non-null  object\n 2   지역(시군구)      232500 non-null  object\n 3   검색지명         232500 non-null  object\n 4   검색지유형1       232500 non-null  object\n 5   검색지유형2       232500 non-null  object\n 6   검색지유형3       232500 non-null  object\n 7   검색지랭킹(시군구내)  232500 non-null  int64 \ndtypes: int64(2), object(6)\nmemory usage: 14.2+ MB\n"
    }
   ],
   "source": [
    "tmap.info()"
   ]
  },
  {
   "cell_type": "markdown",
   "metadata": {},
   "source": [
    "# 서울지역만 하는 경우\n",
    "## 노원구 한정"
   ]
  },
  {
   "cell_type": "code",
   "execution_count": 61,
   "metadata": {},
   "outputs": [
    {
     "output_type": "execute_result",
     "data": {
      "text/plain": "              일자 지역(시도) 지역(시군구)         검색지명 검색지유형1 검색지유형2    검색지유형3  \\\n5880    20200528     서울     노원구       이마트월계점     쇼핑  대형유통점       할인점   \n5881    20200528     서울     노원구  이마트트레이더스월계점     쇼핑  대형유통점       할인점   \n5882    20200528     서울     노원구     롯데백화점노원점     쇼핑  대형유통점       백화점   \n5883    20200528     서울     노원구      롯데마트중계점     쇼핑  대형유통점       할인점   \n5884    20200528     서울     노원구         노원구청   공공편의   행정기관  도/시/구/군청   \n...          ...    ...     ...          ...    ...    ...       ...   \n229645  20200527     서울     노원구     보람1단지아파트  건물/시설   주요건물     아파트단지   \n229646  20200527     서울     노원구   상계주공9단지아파트  건물/시설   주요건물    아파트건설사   \n229647  20200527     서울     노원구      세이브존노원점     쇼핑  대형유통점       할인점   \n229648  20200527     서울     노원구     중계무지개아파트  건물/시설   주요건물     아파트단지   \n229649  20200527     서울     노원구   상계주공6단지아파트  건물/시설   주요건물    아파트건설사   \n\n        검색지랭킹(시군구내)  \n5880              1  \n5881              2  \n5882              3  \n5883              4  \n5884              5  \n...             ...  \n229645           26  \n229646           27  \n229647           28  \n229648           29  \n229649           30  \n\n[930 rows x 8 columns]",
      "text/html": "<div>\n<style scoped>\n    .dataframe tbody tr th:only-of-type {\n        vertical-align: middle;\n    }\n\n    .dataframe tbody tr th {\n        vertical-align: top;\n    }\n\n    .dataframe thead th {\n        text-align: right;\n    }\n</style>\n<table border=\"1\" class=\"dataframe\">\n  <thead>\n    <tr style=\"text-align: right;\">\n      <th></th>\n      <th>일자</th>\n      <th>지역(시도)</th>\n      <th>지역(시군구)</th>\n      <th>검색지명</th>\n      <th>검색지유형1</th>\n      <th>검색지유형2</th>\n      <th>검색지유형3</th>\n      <th>검색지랭킹(시군구내)</th>\n    </tr>\n  </thead>\n  <tbody>\n    <tr>\n      <th>5880</th>\n      <td>20200528</td>\n      <td>서울</td>\n      <td>노원구</td>\n      <td>이마트월계점</td>\n      <td>쇼핑</td>\n      <td>대형유통점</td>\n      <td>할인점</td>\n      <td>1</td>\n    </tr>\n    <tr>\n      <th>5881</th>\n      <td>20200528</td>\n      <td>서울</td>\n      <td>노원구</td>\n      <td>이마트트레이더스월계점</td>\n      <td>쇼핑</td>\n      <td>대형유통점</td>\n      <td>할인점</td>\n      <td>2</td>\n    </tr>\n    <tr>\n      <th>5882</th>\n      <td>20200528</td>\n      <td>서울</td>\n      <td>노원구</td>\n      <td>롯데백화점노원점</td>\n      <td>쇼핑</td>\n      <td>대형유통점</td>\n      <td>백화점</td>\n      <td>3</td>\n    </tr>\n    <tr>\n      <th>5883</th>\n      <td>20200528</td>\n      <td>서울</td>\n      <td>노원구</td>\n      <td>롯데마트중계점</td>\n      <td>쇼핑</td>\n      <td>대형유통점</td>\n      <td>할인점</td>\n      <td>4</td>\n    </tr>\n    <tr>\n      <th>5884</th>\n      <td>20200528</td>\n      <td>서울</td>\n      <td>노원구</td>\n      <td>노원구청</td>\n      <td>공공편의</td>\n      <td>행정기관</td>\n      <td>도/시/구/군청</td>\n      <td>5</td>\n    </tr>\n    <tr>\n      <th>...</th>\n      <td>...</td>\n      <td>...</td>\n      <td>...</td>\n      <td>...</td>\n      <td>...</td>\n      <td>...</td>\n      <td>...</td>\n      <td>...</td>\n    </tr>\n    <tr>\n      <th>229645</th>\n      <td>20200527</td>\n      <td>서울</td>\n      <td>노원구</td>\n      <td>보람1단지아파트</td>\n      <td>건물/시설</td>\n      <td>주요건물</td>\n      <td>아파트단지</td>\n      <td>26</td>\n    </tr>\n    <tr>\n      <th>229646</th>\n      <td>20200527</td>\n      <td>서울</td>\n      <td>노원구</td>\n      <td>상계주공9단지아파트</td>\n      <td>건물/시설</td>\n      <td>주요건물</td>\n      <td>아파트건설사</td>\n      <td>27</td>\n    </tr>\n    <tr>\n      <th>229647</th>\n      <td>20200527</td>\n      <td>서울</td>\n      <td>노원구</td>\n      <td>세이브존노원점</td>\n      <td>쇼핑</td>\n      <td>대형유통점</td>\n      <td>할인점</td>\n      <td>28</td>\n    </tr>\n    <tr>\n      <th>229648</th>\n      <td>20200527</td>\n      <td>서울</td>\n      <td>노원구</td>\n      <td>중계무지개아파트</td>\n      <td>건물/시설</td>\n      <td>주요건물</td>\n      <td>아파트단지</td>\n      <td>29</td>\n    </tr>\n    <tr>\n      <th>229649</th>\n      <td>20200527</td>\n      <td>서울</td>\n      <td>노원구</td>\n      <td>상계주공6단지아파트</td>\n      <td>건물/시설</td>\n      <td>주요건물</td>\n      <td>아파트건설사</td>\n      <td>30</td>\n    </tr>\n  </tbody>\n</table>\n<p>930 rows × 8 columns</p>\n</div>"
     },
     "metadata": {},
     "execution_count": 61
    }
   ],
   "source": [
    "c1 = tmap['지역(시도)'] == '서울'\n",
    "c2 = tmap['지역(시군구)'] == '노원구'\n",
    "# c2 = tmap['일자']==20200510\n",
    "seoul = tmap.loc[c1 & c2,:]\n",
    "seoul"
   ]
  },
  {
   "cell_type": "code",
   "execution_count": 62,
   "metadata": {},
   "outputs": [
    {
     "output_type": "execute_result",
     "data": {
      "text/plain": "공릉역             31\n중계그린아파트         31\n석계역             31\n롯데백화점노원점        31\n노원구청            31\n상계주공7단지아파트      31\n수락산역            31\n태릉입구역           31\n월계한진한화그랑빌아파트    31\n당고개역            31\n노원역             31\n극동건영벽산아파트       31\n이마트트레이더스월계점     31\n이마트월계점          31\n롯데마트중계점         31\n상계역             31\n상계주공10단지아파트     30\n인제대부속상계백병원      28\n상계주공15단지아파트     28\n상계주공2단지아파트      26\n태강아파트           26\n학여울청구아파트        25\n원자력병원           24\n상계주공6단지아파트      23\n중계주공5단지아파트      22\n을지병원            22\n중계무지개아파트        20\n2001아울렛중계점      19\n보람1단지아파트        17\n태릉CC            16\n상계주공14단지아파트     14\n삼육대학교           12\n광운대학교           12\n하계장미6단지아파트      12\n월계주공2단지아파트      12\n공릉풍림아파트         10\n원자력병원장례식장        7\n상계주공3단지아파트       7\n세이브존노원점          6\n상계주공1단지아파트       6\n건영백화점            3\n상계주공9단지아파트       2\n양지대림1차아파트        1\n더블레스컨벤션          1\n을지병원장례식장         1\n인덕대학교            1\n서울노원경찰서          1\nName: 검색지명, dtype: int64"
     },
     "metadata": {},
     "execution_count": 62
    }
   ],
   "source": [
    "cnt_seoul = seoul['검색지명'].value_counts()\n",
    "cnt_seoul"
   ]
  },
  {
   "cell_type": "raw",
   "metadata": {},
   "source": [
    "cnt_seoul = seoul['검색지명'].value_counts()\n",
    "cnt_seoul"
   ]
  },
  {
   "cell_type": "code",
   "execution_count": 66,
   "metadata": {},
   "outputs": [
    {
     "output_type": "execute_result",
     "data": {
      "text/plain": "          name  count\n37  상계주공3단지아파트      7\n38     세이브존노원점      6\n39  상계주공1단지아파트      6\n40       건영백화점      3\n41  상계주공9단지아파트      2",
      "text/html": "<div>\n<style scoped>\n    .dataframe tbody tr th:only-of-type {\n        vertical-align: middle;\n    }\n\n    .dataframe tbody tr th {\n        vertical-align: top;\n    }\n\n    .dataframe thead th {\n        text-align: right;\n    }\n</style>\n<table border=\"1\" class=\"dataframe\">\n  <thead>\n    <tr style=\"text-align: right;\">\n      <th></th>\n      <th>name</th>\n      <th>count</th>\n    </tr>\n  </thead>\n  <tbody>\n    <tr>\n      <th>37</th>\n      <td>상계주공3단지아파트</td>\n      <td>7</td>\n    </tr>\n    <tr>\n      <th>38</th>\n      <td>세이브존노원점</td>\n      <td>6</td>\n    </tr>\n    <tr>\n      <th>39</th>\n      <td>상계주공1단지아파트</td>\n      <td>6</td>\n    </tr>\n    <tr>\n      <th>40</th>\n      <td>건영백화점</td>\n      <td>3</td>\n    </tr>\n    <tr>\n      <th>41</th>\n      <td>상계주공9단지아파트</td>\n      <td>2</td>\n    </tr>\n  </tbody>\n</table>\n</div>"
     },
     "metadata": {},
     "execution_count": 66
    }
   ],
   "source": [
    "type(cnt_seoul)\n",
    "data = {'name':[], 'count':[]}\n",
    "for idx, i in enumerate(cnt_seoul.index):\n",
    "    if cnt_seoul[idx]<=1: break\n",
    "    data['name'].append(i)\n",
    "    data['count'].append(cnt_seoul[idx])\n",
    "data\n",
    "cnt_df = pd.DataFrame(data)\n",
    "cnt_df.tail()\n",
    "# 음 한달동안 서울에서 20회 이하는 삭제했을때 "
   ]
  },
  {
   "cell_type": "markdown",
   "metadata": {},
   "source": [
    "# 카카오 api\n",
    "- 카카오 api 키워드로 장소검색을 사용하면 각각의 네비게이션 목적지들의 좌표값이 나온다.\n",
    "- "
   ]
  },
  {
   "cell_type": "code",
   "execution_count": 74,
   "metadata": {},
   "outputs": [
    {
     "output_type": "execute_result",
     "data": {
      "text/plain": "{'documents': [{'address_name': '서울 강동구 성내동 62-1',\n   'category_group_code': 'SW8',\n   'category_group_name': '지하철역',\n   'category_name': '교통,수송 > 지하철,전철 > 수도권5호선',\n   'distance': '',\n   'id': '8099936',\n   'phone': '02-6311-5471',\n   'place_name': '천호역 5호선',\n   'place_url': 'http://place.map.kakao.com/8099936',\n   'road_address_name': '서울 강동구 천호대로 지하 997',\n   'x': '127.12392845044',\n   'y': '37.5385112120297'},\n  {'address_name': '서울 강동구 성내동 62-1',\n   'category_group_code': 'SW8',\n   'category_group_name': '지하철역',\n   'category_name': '교통,수송 > 지하철,전철 > 수도권8호선',\n   'distance': '',\n   'id': '21160713',\n   'phone': '02-6311-5471',\n   'place_name': '천호역 8호선',\n   'place_url': 'http://place.map.kakao.com/21160713',\n   'road_address_name': '',\n   'x': '127.123203357732',\n   'y': '37.5379353309085'},\n  {'address_name': '서울 강동구 성내동 62-1',\n   'category_group_code': 'PK6',\n   'category_group_name': '주차장',\n   'category_name': '교통,수송 > 교통시설 > 주차장 > 공영주차장',\n   'distance': '',\n   'id': '961348435',\n   'phone': '02-2290-6201',\n   'place_name': '천호역 공영주차장',\n   'place_url': 'http://place.map.kakao.com/961348435',\n   'road_address_name': '',\n   'x': '127.12556109152739',\n   'y': '37.53778868761116'},\n  {'address_name': '서울 강동구 천호동 425-3',\n   'category_group_code': '',\n   'category_group_name': '',\n   'category_name': '부동산 > 주거시설 > 오피스텔',\n   'distance': '',\n   'id': '19782836',\n   'phone': '',\n   'place_name': '천호역한강푸르지오시티오피스텔',\n   'place_url': 'http://place.map.kakao.com/19782836',\n   'road_address_name': '서울 강동구 구천면로 192',\n   'x': '127.12579996062907',\n   'y': '37.54055990806782'},\n  {'address_name': '서울 강동구 천호동 454-14',\n   'category_group_code': '',\n   'category_group_name': '',\n   'category_name': '가정,생활 > 미용 > 미용실 > 준오헤어',\n   'distance': '',\n   'id': '19611616',\n   'phone': '02-485-0605',\n   'place_name': '준오헤어 천호역점',\n   'place_url': 'http://place.map.kakao.com/19611616',\n   'road_address_name': '서울 강동구 천호대로 1023',\n   'x': '127.125955501733',\n   'y': '37.5381811034859'},\n  {'address_name': '서울 강동구 성내동 64-13',\n   'category_group_code': 'AG2',\n   'category_group_name': '중개업소',\n   'category_name': '부동산 > 부동산서비스 > 부동산중개업소',\n   'distance': '',\n   'id': '11988624',\n   'phone': '02-485-4700',\n   'place_name': '천호역브라운스톤공인중개사',\n   'place_url': 'http://place.map.kakao.com/11988624',\n   'road_address_name': '서울 강동구 천호대로 1006',\n   'x': '127.123791821456',\n   'y': '37.5379959834892'},\n  {'address_name': '서울 강동구 성내동 48-6',\n   'category_group_code': '',\n   'category_group_name': '',\n   'category_name': '부동산 > 주거시설 > 아파트',\n   'distance': '',\n   'id': '1751520115',\n   'phone': '',\n   'place_name': '힐스테이트천호역젠트리스아파트(예정)',\n   'place_url': 'http://place.map.kakao.com/1751520115',\n   'road_address_name': '서울 강동구 천호옛길 93',\n   'x': '127.125727518008',\n   'y': '37.5371749296568'},\n  {'address_name': '서울 강동구 성내동 62-1',\n   'category_group_code': '',\n   'category_group_name': '',\n   'category_name': '교통,수송 > 입출구',\n   'distance': '',\n   'id': '1602986502',\n   'phone': '',\n   'place_name': '천호역공영주차장 입구',\n   'place_url': 'http://place.map.kakao.com/1602986502',\n   'road_address_name': '',\n   'x': '127.125606319859',\n   'y': '37.5377706195177'},\n  {'address_name': '서울 강동구 성내동 45-1',\n   'category_group_code': 'AG2',\n   'category_group_name': '중개업소',\n   'category_name': '부동산 > 부동산서비스 > 부동산중개업소',\n   'distance': '',\n   'id': '27221187',\n   'phone': '02-471-8885',\n   'place_name': '천호역 공인중개사사무소',\n   'place_url': 'http://place.map.kakao.com/27221187',\n   'road_address_name': '서울 강동구 천호옛길 90',\n   'x': '127.1259802378002',\n   'y': '37.53674308137141'},\n  {'address_name': '서울 강동구 성내동 9-5',\n   'category_group_code': 'BK9',\n   'category_group_name': '은행',\n   'category_name': '금융,보험 > 금융서비스 > 은행 > KB국민은행',\n   'distance': '',\n   'id': '8221542',\n   'phone': '02-488-1561',\n   'place_name': 'KB국민은행 천호역지점',\n   'place_url': 'http://place.map.kakao.com/8221542',\n   'road_address_name': '서울 강동구 천호대로 1032',\n   'x': '127.12654703983',\n   'y': '37.5373803832707'},\n  {'address_name': '서울 강동구 길동 463',\n   'category_group_code': '',\n   'category_group_name': '',\n   'category_name': '교통,수송 > 입출구',\n   'distance': '',\n   'id': '74317877',\n   'phone': '',\n   'place_name': '천호역공영주차장 입구',\n   'place_url': 'http://place.map.kakao.com/74317877',\n   'road_address_name': '',\n   'x': '127.13581154689',\n   'y': '37.5349482042059'},\n  {'address_name': '서울 강동구 성내동 87-1',\n   'category_group_code': '',\n   'category_group_name': '',\n   'category_name': '부동산 > 주거시설 > 아파트',\n   'distance': '',\n   'id': '1151046211',\n   'phone': '',\n   'place_name': '천호역 역세권청년주택',\n   'place_url': 'http://place.map.kakao.com/1151046211',\n   'road_address_name': '',\n   'x': '127.123004447233',\n   'y': '37.536007578609'},\n  {'address_name': '서울 강동구 천호동 447-17',\n   'category_group_code': 'BK9',\n   'category_group_name': '은행',\n   'category_name': '금융,보험 > 금융서비스 > 은행 > 하나은행',\n   'distance': '',\n   'id': '734683970',\n   'phone': '02-477-1311',\n   'place_name': '하나은행 강동역지점',\n   'place_url': 'http://place.map.kakao.com/734683970',\n   'road_address_name': '서울 강동구 천호대로 1089',\n   'x': '127.133102533414',\n   'y': '37.5360036566435'},\n  {'address_name': '서울 강동구 천호동 447',\n   'category_group_code': 'BK9',\n   'category_group_name': '은행',\n   'category_name': '금융,보험 > 금융서비스 > 은행 > 신한은행',\n   'distance': '',\n   'id': '7988617',\n   'phone': '02-488-8021',\n   'place_name': '신한은행 강동역지점',\n   'place_url': 'http://place.map.kakao.com/7988617',\n   'road_address_name': '서울 강동구 천호대로 1099',\n   'x': '127.134233427366',\n   'y': '37.5356996406033'},\n  {'address_name': '서울 강동구 성내동 12-15',\n   'category_group_code': '',\n   'category_group_name': '',\n   'category_name': '부동산 > 주거시설 > 빌라,연립주택',\n   'distance': '',\n   'id': '1272238037',\n   'phone': '',\n   'place_name': '천호역아름채2',\n   'place_url': 'http://place.map.kakao.com/1272238037',\n   'road_address_name': '서울 강동구 천호옛14길 31-22',\n   'x': '127.127260150557',\n   'y': '37.5368858690217'}],\n 'meta': {'is_end': False,\n  'pageable_count': 36,\n  'same_name': {'keyword': '천호역', 'region': [], 'selected_region': ''},\n  'total_count': 223}}"
     },
     "metadata": {},
     "execution_count": 74
    }
   ],
   "source": [
    "# cnt_df.plot(kind='bar')\n",
    "import requests\n",
    "from decouple import config\n",
    "ka_key = config('KAKAO_RESTAPI')\n",
    "kakao_url = 'https://dapi.kakao.com/v2/local/search/keyword.json?query=천호역'\n",
    "h = {\n",
    "    'Authorization': 'KakaoAK '+ka_key\n",
    "}\n",
    "res = requests.get(kakao_url, headers=h)\n",
    "res.json()"
   ]
  },
  {
   "cell_type": "markdown",
   "metadata": {},
   "source": [
    "# 전체지역"
   ]
  },
  {
   "cell_type": "code",
   "execution_count": 43,
   "metadata": {},
   "outputs": [
    {
     "output_type": "execute_result",
     "data": {
      "text/plain": "솔내음                 95\n하우스베이커리             93\n목월빵집                93\n이성당                 93\n수림정                 93\n                    ..\n소담길                  1\n용인행정타운두산위브2단지아파트     1\n단촌역                  1\n남이면사무소               1\n영월드론전용비행시험장          1\nName: 검색지명, Length: 16307, dtype: int64"
     },
     "metadata": {},
     "execution_count": 43
    }
   ],
   "source": [
    "cnt_tmap = tmap['검색지명'].value_counts()\n",
    "cnt_tmap"
   ]
  }
 ],
 "metadata": {
  "kernelspec": {
   "display_name": "Python 3.8.4 64-bit",
   "language": "python",
   "name": "python_defaultSpec_1595339422613"
  },
  "language_info": {
   "codemirror_mode": {
    "name": "ipython",
    "version": 3
   },
   "file_extension": ".py",
   "mimetype": "text/x-python",
   "name": "python",
   "nbconvert_exporter": "python",
   "pygments_lexer": "ipython3",
   "version": "3.8.4-final"
  }
 },
 "nbformat": 4,
 "nbformat_minor": 4
}